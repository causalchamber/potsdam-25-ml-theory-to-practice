{
 "cells": [
  {
   "cell_type": "markdown",
   "id": "ca0a0a2f-3fea-4e50-b244-0a70b2a766be",
   "metadata": {
    "editable": false,
    "slideshow": {
     "slide_type": ""
    },
    "tags": []
   },
   "source": [
    "# Project 1.1: Understanding linear models on synthetic data\n",
    "\n",
    "```\n",
    "From ML Theory to Practice\n",
    "Universität Potsdam, fall semester 2025\n",
    "\n",
    "Authors: Juan L. Gamella and Simon Bing\n",
    "License: CC-BY-4.0 https://creativecommons.org/licenses/by/4.0/\n",
    "```"
   ]
  },
  {
   "cell_type": "markdown",
   "id": "6490cb02-b530-4ac8-8a57-f9f64e814778",
   "metadata": {
    "editable": false,
    "slideshow": {
     "slide_type": ""
    },
    "tags": []
   },
   "source": [
    "## Imports\n",
    "\n",
    "These packages should already be installed in your Python virtual environment."
   ]
  },
  {
   "cell_type": "code",
   "execution_count": 59,
   "id": "76bc1a3a-54a3-4254-a938-c9104d1c6c59",
   "metadata": {
    "slideshow": {
     "slide_type": ""
    },
    "tags": []
   },
   "outputs": [],
   "source": [
    "# Import packages\n",
    "import numpy as np\n",
    "import pandas as pd\n",
    "import matplotlib.pyplot as plt\n",
    "import seaborn as sns\n",
    "import statsmodels.api as sm"
   ]
  },
  {
   "cell_type": "code",
   "execution_count": 60,
   "id": "14025481",
   "metadata": {},
   "outputs": [],
   "source": [
    "coef_to_pred_mapping = {\n",
    "    'X0': 'β0',\n",
    "    'X1': 'β1',\n",
    "    'X2': 'β2',\n",
    "    'X3': 'β3'\n",
    "}"
   ]
  },
  {
   "cell_type": "markdown",
   "id": "090ec10e-3144-4bb8-887c-4ec817ad1033",
   "metadata": {
    "editable": false,
    "slideshow": {
     "slide_type": ""
    },
    "tags": []
   },
   "source": [
    "## Generating synthetic data"
   ]
  },
  {
   "cell_type": "markdown",
   "id": "814e44af-3b58-4557-8953-10669925cf25",
   "metadata": {
    "editable": false,
    "slideshow": {
     "slide_type": ""
    },
    "tags": []
   },
   "source": [
    "<mark style=\"background-color: #db40e0ff;\"> Task </mark> \n",
    "\n",
    "Write code to generate `N` samples from the following linear model\n",
    "\n",
    "$Y := \\beta_0 + \\beta_1 X_1 + \\beta_2 X_2 + \\beta_3 X_3 + \\epsilon$\n",
    "\n",
    "where $\\beta \\in \\mathbb{R}^4$ and $\\epsilon \\sim \\mathcal{N}(0,1)$, and $X_1$, $X_2$, $X_3$ are sampled independently and uniformly at random from $[0,10]$.\n",
    "\n",
    "For now, set $\\beta = (0,1,2,3)$, `N = 100` and store the samples in a dataframe with columns `X0, X1, X2, X3, Y`, where `X0` is just a vector of ones."
   ]
  },
  {
   "cell_type": "code",
   "execution_count": null,
   "id": "3fb34c5a-1798-4ecf-bd96-aa12f8a7fcfd",
   "metadata": {
    "editable": true,
    "slideshow": {
     "slide_type": ""
    },
    "tags": []
   },
   "outputs": [],
   "source": [
    "# ---------------------------\n",
    "# 1) Data generation\n",
    "# ---------------------------\n",
    "\n",
    "# list containing true Beta parameters\n",
    "true_coefficients = np.array([0,1,2,3])\n",
    "def generate_dataset(N, seed, model_coefficients = true_coefficients):\n",
    "    \"\"\"\n",
    "    Generates a DataFrame with N samples based on a linear model.\n",
    "\n",
    "    Args:\n",
    "        N (int): The number of samples to generate.\n",
    "        seed (int): A seed for the random number generator for reproducibility.\n",
    "        model_coefficients (np.ndarray): An array of the true model coefficients Beta.\n",
    "\n",
    "    Returns:\n",
    "        pd.DataFrame: A DataFrame containing the generated data.\n",
    "    \"\"\"\n",
    "    rng = np.random.default_rng(seed)\n",
    "\n",
    "    # create N random samples for each predictor and the error term\n",
    "    X0 = np.ones(N)                            # Intercept\n",
    "    X1 = rng.uniform(low=0, high=10, size=N)\n",
    "    X2 = rng.uniform(low=0, high=10, size=N)\n",
    "    X3 = rng.uniform(low=0, high=10, size=N)\n",
    "    noise = rng.standard_normal(size=N)\n",
    "\n",
    "    # Calculate observed data points with the linear model\n",
    "    β0, β1, β2, β3 = model_coefficients\n",
    "    Y = β0 * X0 + β1 * X1 + β2 * X2 + β3 * X3 + noise\n",
    "    \n",
    "    # return dataframe    \n",
    "    return pd.DataFrame({'X0': X0, 'X1': X1, 'X2': X2, 'X3': X3, 'Y': Y})"
   ]
  },
  {
   "cell_type": "code",
   "execution_count": 62,
   "id": "b4b39745-fd9e-44d1-a087-e139096fe5bd",
   "metadata": {},
   "outputs": [],
   "source": [
    "# generate dataset\n",
    "data = generate_dataset(N=100, seed=42)"
   ]
  },
  {
   "cell_type": "code",
   "execution_count": 63,
   "id": "c52c51da",
   "metadata": {},
   "outputs": [
    {
     "name": "stdout",
     "output_type": "stream",
     "text": [
      "First 5 rows of the generated data:\n"
     ]
    },
    {
     "data": {
      "text/html": [
       "<div>\n",
       "<style scoped>\n",
       "    .dataframe tbody tr th:only-of-type {\n",
       "        vertical-align: middle;\n",
       "    }\n",
       "\n",
       "    .dataframe tbody tr th {\n",
       "        vertical-align: top;\n",
       "    }\n",
       "\n",
       "    .dataframe thead th {\n",
       "        text-align: right;\n",
       "    }\n",
       "</style>\n",
       "<table border=\"1\" class=\"dataframe\">\n",
       "  <thead>\n",
       "    <tr style=\"text-align: right;\">\n",
       "      <th></th>\n",
       "      <th>X0</th>\n",
       "      <th>X1</th>\n",
       "      <th>X2</th>\n",
       "      <th>X3</th>\n",
       "      <th>Y</th>\n",
       "    </tr>\n",
       "  </thead>\n",
       "  <tbody>\n",
       "    <tr>\n",
       "      <th>0</th>\n",
       "      <td>1.0</td>\n",
       "      <td>7.739560</td>\n",
       "      <td>9.085807</td>\n",
       "      <td>7.774048</td>\n",
       "      <td>48.941148</td>\n",
       "    </tr>\n",
       "    <tr>\n",
       "      <th>1</th>\n",
       "      <td>1.0</td>\n",
       "      <td>4.388784</td>\n",
       "      <td>6.997071</td>\n",
       "      <td>9.718264</td>\n",
       "      <td>47.434232</td>\n",
       "    </tr>\n",
       "    <tr>\n",
       "      <th>2</th>\n",
       "      <td>1.0</td>\n",
       "      <td>8.585979</td>\n",
       "      <td>2.658700</td>\n",
       "      <td>5.007412</td>\n",
       "      <td>28.673637</td>\n",
       "    </tr>\n",
       "    <tr>\n",
       "      <th>3</th>\n",
       "      <td>1.0</td>\n",
       "      <td>6.973680</td>\n",
       "      <td>9.691764</td>\n",
       "      <td>1.438975</td>\n",
       "      <td>30.826695</td>\n",
       "    </tr>\n",
       "    <tr>\n",
       "      <th>4</th>\n",
       "      <td>1.0</td>\n",
       "      <td>0.941773</td>\n",
       "      <td>7.787509</td>\n",
       "      <td>0.139363</td>\n",
       "      <td>18.406372</td>\n",
       "    </tr>\n",
       "  </tbody>\n",
       "</table>\n",
       "</div>"
      ],
      "text/plain": [
       "    X0        X1        X2        X3          Y\n",
       "0  1.0  7.739560  9.085807  7.774048  48.941148\n",
       "1  1.0  4.388784  6.997071  9.718264  47.434232\n",
       "2  1.0  8.585979  2.658700  5.007412  28.673637\n",
       "3  1.0  6.973680  9.691764  1.438975  30.826695\n",
       "4  1.0  0.941773  7.787509  0.139363  18.406372"
      ]
     },
     "execution_count": 63,
     "metadata": {},
     "output_type": "execute_result"
    }
   ],
   "source": [
    "print(\"First 5 rows of the generated data:\")\n",
    "data.head()"
   ]
  },
  {
   "cell_type": "markdown",
   "id": "5af42e0e-40f7-41fc-9c14-0d34a303493e",
   "metadata": {
    "editable": false,
    "slideshow": {
     "slide_type": ""
    },
    "tags": []
   },
   "source": [
    "## Visualize the data\n",
    "\n",
    "<mark style=\"background-color: #40E0D0;\"> Task </mark> \n",
    "\n",
    "Before fitting a model, lets do a sanity check on the data. Make a corner plot using [`sns.pairplot`](https://seaborn.pydata.org/generated/seaborn.pairplot.html), and specify `vars=['X1', 'X2', 'X3', 'Y']` and `corner=True`. Look at the row for `Y` vs. the other variables and check that there is indeed the linear effect you expect."
   ]
  },
  {
   "cell_type": "code",
   "execution_count": null,
   "id": "8d6ed205-4487-440f-ac8a-e8ca6ee1b73d",
   "metadata": {
    "editable": true,
    "slideshow": {
     "slide_type": ""
    },
    "tags": []
   },
   "outputs": [
    {
     "data": {
      "image/png": "[encoded data removed]",
      "text/plain": [
       "<Figure size 1000x1000 with 14 Axes>"
      ]
     },
     "metadata": {},
     "output_type": "display_data"
    }
   ],
   "source": [
    "# plot to confirm linear relationships between predictors and Y values\n",
    "sns.pairplot(data, vars=['X1', 'X2', 'X3', 'Y'], corner=True)\n",
    "\n",
    "plt.suptitle('Pairwise Relationships in Generated Data')\n",
    "plt.show()"
   ]
  },
  {
   "cell_type": "markdown",
   "id": "0a9c7919-0092-4fbc-b5bf-1f42e0489040",
   "metadata": {
    "editable": false,
    "slideshow": {
     "slide_type": ""
    },
    "tags": []
   },
   "source": [
    "<mark style=\"background-color: #648fff;\">Question:</mark> Write down anything that surprises you to discuss later with your classmates."
   ]
  },
  {
   "cell_type": "markdown",
   "id": "cc2ac582-8323-4f42-83cc-07633a927c79",
   "metadata": {
    "editable": true,
    "slideshow": {
     "slide_type": ""
    },
    "tags": []
   },
   "source": [
    "Observation:   \n",
    "In the last row we see the linear relationship between Y and each predictor X. Each predictor shows a clear positive linear trend with the outcome Y. \n",
    "What stands out is that the linear relationship between ($Y,X_1$) is noticeably weaker than for ($Y,X_3$).  \n",
    "Since $\\beta_1 = 1, \\beta_2 = 2$ and $\\beta_3 = 3$, the magnitude of the slope (and hence the correlation strength) increases from $X_1$ to $X_3$."
   ]
  },
  {
   "cell_type": "markdown",
   "id": "4f760bf4-7bfa-4fe3-96aa-acf90a1422e9",
   "metadata": {
    "editable": false,
    "slideshow": {
     "slide_type": ""
    },
    "tags": []
   },
   "source": [
    "## Fitting a linear model using `statsmodels`"
   ]
  },
  {
   "cell_type": "markdown",
   "id": "9b1ba6d7-4787-4fb9-a9dd-9cd9fcc24e75",
   "metadata": {
    "editable": false,
    "slideshow": {
     "slide_type": ""
    },
    "tags": []
   },
   "source": [
    "Now, we will use statsmodels to fit a linear model using Ordinary Least Squares (OLS).\n",
    "\n",
    "You can do this by calling:\n",
    "\n",
    "```results = sm.OLS(<outcome>,<predictors>).fit()```\n",
    "\n",
    "where `outcome` and `predictors` are dataframes. You can find an example [here](https://www.statsmodels.org/stable/generated/statsmodels.regression.linear_model.OLS.html#statsmodels.regression.linear_model.OLS) (feel free to ask your favorite chatbot for help).\n",
    "\n",
    "<mark style=\"background-color: #40E0D0;\"> Task </mark> \n",
    "\n",
    "Fit a linear model to predict `Y` from `X0, X1, X2, X3`. Store the fitted model in a variable called `results`."
   ]
  },
  {
   "cell_type": "code",
   "execution_count": 65,
   "id": "21346139-753e-42ac-ab41-5cc70df67a5e",
   "metadata": {
    "editable": true,
    "slideshow": {
     "slide_type": ""
    },
    "tags": []
   },
   "outputs": [],
   "source": [
    "# ---------------------------\n",
    "# 2) Fit OLS and inspect\n",
    "# ---------------------------\n",
    "\n",
    "# Separate the outcome (Y) from predictors (X's)\n",
    "outcome = data['Y']\n",
    "predictors = data[['X0', 'X1', 'X2', 'X3']].rename(columns=coef_to_pred_mapping)\n",
    "\n",
    "# Fit the Ordinary Least Squares (OLS) model to estimate parameters β \n",
    "# that minimize the prediction error, between the predicted and observed values\n",
    "results = sm.OLS(outcome, predictors).fit()"
   ]
  },
  {
   "cell_type": "markdown",
   "id": "b9353d05-039c-4e46-a74c-bdf4a68690ce",
   "metadata": {
    "editable": false,
    "slideshow": {
     "slide_type": ""
    },
    "tags": []
   },
   "source": [
    "## Interpreting the results\n",
    "\n",
    "<mark style=\"background-color: #40E0D0;\"> Task </mark> \n",
    "\n",
    "\n",
    "Print the summary table of the linear model calling `print(results.summary())`."
   ]
  },
  {
   "cell_type": "code",
   "execution_count": 66,
   "id": "da5fc34b-7a56-414a-962c-6f0339478294",
   "metadata": {
    "editable": true,
    "slideshow": {
     "slide_type": ""
    },
    "tags": []
   },
   "outputs": [
    {
     "name": "stdout",
     "output_type": "stream",
     "text": [
      "\n",
      "OLS summary (N=100):\n",
      "                            OLS Regression Results                            \n",
      "==============================================================================\n",
      "Dep. Variable:                      Y   R-squared:                       0.992\n",
      "Model:                            OLS   Adj. R-squared:                  0.991\n",
      "Method:                 Least Squares   F-statistic:                     3777.\n",
      "Date:                Sun, 26 Oct 2025   Prob (F-statistic):           1.84e-99\n",
      "Time:                        16:12:21   Log-Likelihood:                -142.63\n",
      "No. Observations:                 100   AIC:                             293.3\n",
      "Df Residuals:                      96   BIC:                             303.7\n",
      "Df Model:                           3                                         \n",
      "Covariance Type:            nonrobust                                         \n",
      "==============================================================================\n",
      "                 coef    std err          t      P>|t|      [0.025      0.975]\n",
      "------------------------------------------------------------------------------\n",
      "β0             0.3439      0.337      1.021      0.310      -0.325       1.013\n",
      "β1             0.9402      0.038     24.639      0.000       0.864       1.016\n",
      "β2             2.0148      0.036     56.386      0.000       1.944       2.086\n",
      "β3             2.9919      0.034     88.678      0.000       2.925       3.059\n",
      "==============================================================================\n",
      "Omnibus:                        1.988   Durbin-Watson:                   1.983\n",
      "Prob(Omnibus):                  0.370   Jarque-Bera (JB):                1.997\n",
      "Skew:                          -0.290   Prob(JB):                        0.369\n",
      "Kurtosis:                       2.622   Cond. No.                         29.4\n",
      "==============================================================================\n",
      "\n",
      "Notes:\n",
      "[1] Standard Errors assume that the covariance matrix of the errors is correctly specified.\n"
     ]
    }
   ],
   "source": [
    "print(\"\\nOLS summary (N=100):\")\n",
    "print(results.summary())"
   ]
  },
  {
   "cell_type": "markdown",
   "id": "70f4458d",
   "metadata": {},
   "source": [
    "According to the model summary, the estimated parameters $\\hat{\\beta_1},  \\hat{\\beta_2}$ and $\\hat{\\beta_3}$ are highly significant in explaining the outcome variable $Y$, as indicated by large t-values (≫ 2) and small p-values (< 0.05).\n",
    "The estimated effect size increases from $\\hat{\\beta_1}$ to $\\hat{\\beta_3}$, which aligns with the true parameter values we specified at the beginning.  \n",
    "  \n",
    "Overall, the results confirm that the OLS estimator is unbiased and consistent, as the estimated coefficients accurately recover the true underlying parameters, with all true values lying within their respective 95 % confidence intervals."
   ]
  },
  {
   "cell_type": "markdown",
   "id": "764749e9-b0a7-4dd9-a10f-d144aa45cc8e",
   "metadata": {
    "editable": false,
    "slideshow": {
     "slide_type": ""
    },
    "tags": []
   },
   "source": [
    "<br>\n",
    "<mark style=\"background-color: #648fff;\">Question:</mark> What does the column `coef` show?"
   ]
  },
  {
   "cell_type": "markdown",
   "id": "334084f4-40f5-4bcf-960a-a22fbe91f00d",
   "metadata": {
    "editable": true,
    "slideshow": {
     "slide_type": ""
    },
    "tags": []
   },
   "source": [
    "The coef column shows the estimated regression coefficients ($\\hat{\\beta}$'s), that the model has learned from the generated dataset."
   ]
  },
  {
   "cell_type": "markdown",
   "id": "360d2d17-77da-43db-b0f1-b6d1ee652e4a",
   "metadata": {
    "editable": false,
    "slideshow": {
     "slide_type": ""
    },
    "tags": []
   },
   "source": [
    "<mark style=\"background-color: #648fff;\">Question:</mark> Why is $\\hat{\\beta}_0$ not zero?"
   ]
  },
  {
   "cell_type": "markdown",
   "id": "54764728-6f18-4979-bea3-7b7df1c89692",
   "metadata": {
    "editable": true,
    "slideshow": {
     "slide_type": ""
    },
    "tags": []
   },
   "source": [
    "The estimated intercept $\\hat{\\beta}_0$ is not exactly zero because of random sampling variation and noise in the simulated data. Since its p-value is greater than 0.05, the deviation from zero is not statistically significant, meaning there is no evidence that the true intercept differs from zero.\n",
    "\n",
    "These small deviations happen purely due to random error in the data generation process."
   ]
  },
  {
   "cell_type": "markdown",
   "id": "d862a0f3-4a0f-4c0d-9689-f386a820365a",
   "metadata": {
    "editable": false,
    "slideshow": {
     "slide_type": ""
    },
    "tags": []
   },
   "source": [
    "<mark style=\"background-color: #648fff;\">Question:</mark> What do the columns `[0.025` and `0.975]` show?"
   ]
  },
  {
   "cell_type": "markdown",
   "id": "7e165193-f95f-4498-a2f5-f9cba072cd6a",
   "metadata": {
    "editable": true,
    "slideshow": {
     "slide_type": ""
    },
    "tags": []
   },
   "source": [
    "The columns [0.025 and 0.975] represent the lower and upper limits of the 95 % confidence interval for each estimated coefficient.\n",
    "They indicate the range of plausible values for the true parameters $\\beta$ and thus quantify the uncertainty of the estimates. \n",
    "Since this is a two-sided 95 % confidence interval, 2.5 % of the probability mass lies in each tail of the corresponding sampling distribution - one on the left and one on the right. "
   ]
  },
  {
   "cell_type": "markdown",
   "id": "48bf3159-a58c-4d58-8593-2ace4bdac272",
   "metadata": {
    "editable": false,
    "slideshow": {
     "slide_type": ""
    },
    "tags": []
   },
   "source": [
    "<mark style=\"background-color: #648fff;\">Question:</mark> What does the columns `P>|t|` show? Why is the entry for `X0` larger than the others?"
   ]
  },
  {
   "cell_type": "markdown",
   "id": "61bfdd41-e826-447a-8da3-5fe8e603dc16",
   "metadata": {
    "editable": true,
    "slideshow": {
     "slide_type": ""
    },
    "tags": []
   },
   "source": [
    "The P>|t| column shows the p-value for each coefficient’s t-test, so the probability of observing a t-value as extreme or more extreme than $∣t_j∣$ under the null-hypothesis.  \n",
    "A small p-value (< 0.05) means the coefficient is statistically significant in explaining the data.\n",
    "  \n",
    "The value for $\\beta_0$ is statistically not significant (p-value > 0.05), meaning the model has no evidence that the true intercept differs from 0. The small deviation observed for $\\hat{\\beta}_0$ arises purely from random noise in the generated data."
   ]
  },
  {
   "cell_type": "markdown",
   "id": "420a7979-a401-4815-9bb8-2653e5aa0b06",
   "metadata": {
    "editable": false,
    "slideshow": {
     "slide_type": ""
    },
    "tags": []
   },
   "source": [
    "<mark style=\"background-color: #648fff;\">Question:</mark> Change the random seed above, generate fresh data, and re-fit the model. What has happened to the values in `P>|t|`? Why?"
   ]
  },
  {
   "cell_type": "markdown",
   "id": "513c4c7e-0750-4a1d-a26f-ffdb8a57fcd2",
   "metadata": {
    "editable": true,
    "slideshow": {
     "slide_type": ""
    },
    "tags": []
   },
   "source": [
    "All values changed.  \n",
    "\n",
    "Each time we generate data without setting a fixed random seed (or setting different ones), new values are drawn from the underlying random distributions — so the specific samples, and consequently the estimated coefficients and p-values, change in each iteration.\n",
    "\n",
    "By setting a seed, we ensure that the same random numbers are generated every time we run the code. This guarantees that the results are reproducible and comparable across iterations.\n",
    "\n"
   ]
  },
  {
   "cell_type": "markdown",
   "id": "a078903d-4e3e-411f-8bc5-4cf83c471795",
   "metadata": {
    "editable": false,
    "slideshow": {
     "slide_type": ""
    },
    "tags": []
   },
   "source": [
    "<mark style=\"background-color: #648fff;\">Question:</mark> If you increase the sample size `N`, what will happen to the columns `coef`, `P>|t|`, `[0.025`, and `0.975]`?"
   ]
  },
  {
   "cell_type": "markdown",
   "id": "d9254034-c9ce-4a71-9b8c-f9e95114ce29",
   "metadata": {
    "editable": true,
    "slideshow": {
     "slide_type": ""
    },
    "tags": []
   },
   "source": [
    "When we collect more data, the estimates become more precise, more significant, and closer to the true values.\n",
    "The uncertainty (reflected by the width of confidence intervals) shrinks as the sample size grows (effect can be seen in the formula for the observed t-value/standard error)."
   ]
  },
  {
   "cell_type": "markdown",
   "id": "9f83fde0-48ff-4331-a5cd-05a1c932db4e",
   "metadata": {
    "editable": false,
    "slideshow": {
     "slide_type": ""
    },
    "tags": []
   },
   "source": [
    "<mark style=\"background-color: #40E0D0;\"> Task </mark> \n",
    "\n",
    "Now, generate fresh data with `N=1000` and `N=10000` and check your hypothesis:"
   ]
  },
  {
   "cell_type": "code",
   "execution_count": 67,
   "id": "e8d5aff1-51c6-4736-923d-7c8d872a9a67",
   "metadata": {
    "editable": true,
    "slideshow": {
     "slide_type": ""
    },
    "tags": []
   },
   "outputs": [],
   "source": [
    "# ---------------------------\n",
    "# 3) Effect of sample size\n",
    "# ---------------------------\n",
    "\n",
    "# generate additional datasets of different sample size (medium and large)\n",
    "data_mediumSize = generate_dataset(N=1000, seed=42)\n",
    "data_largeSize = generate_dataset(N=10000, seed=42)"
   ]
  },
  {
   "cell_type": "code",
   "execution_count": 68,
   "id": "1ffb99c7",
   "metadata": {},
   "outputs": [
    {
     "name": "stdout",
     "output_type": "stream",
     "text": [
      "\n",
      "OLS summary (N=1000):\n",
      "                            OLS Regression Results                            \n",
      "==============================================================================\n",
      "Dep. Variable:                      Y   R-squared:                       0.991\n",
      "Model:                            OLS   Adj. R-squared:                  0.991\n",
      "Method:                 Least Squares   F-statistic:                 3.848e+04\n",
      "Date:                Sun, 26 Oct 2025   Prob (F-statistic):               0.00\n",
      "Time:                        16:12:22   Log-Likelihood:                -1411.1\n",
      "No. Observations:                1000   AIC:                             2830.\n",
      "Df Residuals:                     996   BIC:                             2850.\n",
      "Df Model:                           3                                         \n",
      "Covariance Type:            nonrobust                                         \n",
      "==============================================================================\n",
      "                 coef    std err          t      P>|t|      [0.025      0.975]\n",
      "------------------------------------------------------------------------------\n",
      "β0             0.0680      0.100      0.681      0.496      -0.128       0.264\n",
      "β1             0.9956      0.011     92.289      0.000       0.974       1.017\n",
      "β2             1.9933      0.011    183.283      0.000       1.972       2.015\n",
      "β3             2.9996      0.011    276.030      0.000       2.978       3.021\n",
      "==============================================================================\n",
      "Omnibus:                        2.593   Durbin-Watson:                   1.934\n",
      "Prob(Omnibus):                  0.273   Jarque-Bera (JB):                2.652\n",
      "Skew:                           0.121   Prob(JB):                        0.266\n",
      "Kurtosis:                       2.928   Cond. No.                         29.3\n",
      "==============================================================================\n",
      "\n",
      "Notes:\n",
      "[1] Standard Errors assume that the covariance matrix of the errors is correctly specified.\n"
     ]
    }
   ],
   "source": [
    "outcome_mediumSize = data_mediumSize['Y']\n",
    "predictors_mediumSize = data_mediumSize[['X0', 'X1', 'X2', 'X3']].rename(columns=coef_to_pred_mapping)\n",
    "\n",
    "results_mediumSize = sm.OLS(outcome_mediumSize, predictors_mediumSize).fit()\n",
    "\n",
    "print(\"\\nOLS summary (N=1000):\")\n",
    "print(results_mediumSize.summary())"
   ]
  },
  {
   "cell_type": "code",
   "execution_count": 69,
   "id": "f040ec2b",
   "metadata": {},
   "outputs": [
    {
     "name": "stdout",
     "output_type": "stream",
     "text": [
      "\n",
      "OLS summary (N=10000):\n",
      "                            OLS Regression Results                            \n",
      "==============================================================================\n",
      "Dep. Variable:                      Y   R-squared:                       0.991\n",
      "Model:                            OLS   Adj. R-squared:                  0.991\n",
      "Method:                 Least Squares   F-statistic:                 3.792e+05\n",
      "Date:                Sun, 26 Oct 2025   Prob (F-statistic):               0.00\n",
      "Time:                        16:12:22   Log-Likelihood:                -14282.\n",
      "No. Observations:               10000   AIC:                         2.857e+04\n",
      "Df Residuals:                    9996   BIC:                         2.860e+04\n",
      "Df Model:                           3                                         \n",
      "Covariance Type:            nonrobust                                         \n",
      "==============================================================================\n",
      "                 coef    std err          t      P>|t|      [0.025      0.975]\n",
      "------------------------------------------------------------------------------\n",
      "β0            -0.0360      0.032     -1.119      0.263      -0.099       0.027\n",
      "β1             1.0000      0.004    285.505      0.000       0.993       1.007\n",
      "β2             2.0045      0.003    573.706      0.000       1.998       2.011\n",
      "β3             3.0018      0.003    857.791      0.000       2.995       3.009\n",
      "==============================================================================\n",
      "Omnibus:                        0.026   Durbin-Watson:                   2.019\n",
      "Prob(Omnibus):                  0.987   Jarque-Bera (JB):                0.024\n",
      "Skew:                           0.004   Prob(JB):                        0.988\n",
      "Kurtosis:                       3.000   Cond. No.                         29.4\n",
      "==============================================================================\n",
      "\n",
      "Notes:\n",
      "[1] Standard Errors assume that the covariance matrix of the errors is correctly specified.\n"
     ]
    }
   ],
   "source": [
    "outcome_largeSize = data_largeSize['Y']\n",
    "predictors_largeSize = data_largeSize[['X0', 'X1', 'X2', 'X3']].rename(columns=coef_to_pred_mapping)\n",
    "\n",
    "results_largeSize = sm.OLS(outcome_largeSize, predictors_largeSize).fit()\n",
    "\n",
    "print(\"\\nOLS summary (N=10000):\")\n",
    "print(results_largeSize.summary())"
   ]
  },
  {
   "cell_type": "markdown",
   "id": "6cf0a502-292e-4c0b-ab86-9d1467a2df18",
   "metadata": {
    "editable": false,
    "slideshow": {
     "slide_type": ""
    },
    "tags": []
   },
   "source": [
    "<br>\n",
    "<mark style=\"background-color: #648fff;\">Question:</mark> What happened when you increased the sample size? Was your hypothesis correct?"
   ]
  },
  {
   "cell_type": "markdown",
   "id": "c336924c-bfd8-496d-9d92-cf73ee285a1d",
   "metadata": {
    "editable": true,
    "slideshow": {
     "slide_type": ""
    },
    "tags": []
   },
   "source": [
    "Yes, the results confirmed my hypothesis.\n",
    "As the sample size increased, the coefficient estimates became more precise, the p-values decreased, and the confidence intervals narrowed, indicating less uncertainty in the parameter estimates."
   ]
  },
  {
   "cell_type": "markdown",
   "id": "966a872f-4916-49c9-b870-452249bbd31d",
   "metadata": {
    "editable": true,
    "slideshow": {
     "slide_type": ""
    },
    "tags": []
   },
   "source": [
    "## Understanding confidence intervals"
   ]
  },
  {
   "cell_type": "markdown",
   "id": "00da12a2-99f3-431d-bc9b-85e3166181f7",
   "metadata": {
    "editable": false,
    "slideshow": {
     "slide_type": ""
    },
    "tags": []
   },
   "source": [
    "We will now do a few experiments to test your understanding of confidence intervals.\n",
    "\n",
    "You can access the $\\alpha=0.05$ confidence interval computed by a model by calling `results.conf_int()`."
   ]
  },
  {
   "cell_type": "code",
   "execution_count": 70,
   "id": "46dd8797-82c4-4725-a1b2-7e1d65d4506d",
   "metadata": {
    "editable": true,
    "slideshow": {
     "slide_type": ""
    },
    "tags": []
   },
   "outputs": [
    {
     "name": "stdout",
     "output_type": "stream",
     "text": [
      "\n",
      "95% Confidence intervals for coefficients (N=100):\n"
     ]
    },
    {
     "data": {
      "text/html": [
       "<div>\n",
       "<style scoped>\n",
       "    .dataframe tbody tr th:only-of-type {\n",
       "        vertical-align: middle;\n",
       "    }\n",
       "\n",
       "    .dataframe tbody tr th {\n",
       "        vertical-align: top;\n",
       "    }\n",
       "\n",
       "    .dataframe thead th {\n",
       "        text-align: right;\n",
       "    }\n",
       "</style>\n",
       "<table border=\"1\" class=\"dataframe\">\n",
       "  <thead>\n",
       "    <tr style=\"text-align: right;\">\n",
       "      <th></th>\n",
       "      <th>0</th>\n",
       "      <th>1</th>\n",
       "    </tr>\n",
       "  </thead>\n",
       "  <tbody>\n",
       "    <tr>\n",
       "      <th>β0</th>\n",
       "      <td>-0.324810</td>\n",
       "      <td>1.012686</td>\n",
       "    </tr>\n",
       "    <tr>\n",
       "      <th>β1</th>\n",
       "      <td>0.864464</td>\n",
       "      <td>1.015957</td>\n",
       "    </tr>\n",
       "    <tr>\n",
       "      <th>β2</th>\n",
       "      <td>1.943834</td>\n",
       "      <td>2.085686</td>\n",
       "    </tr>\n",
       "    <tr>\n",
       "      <th>β3</th>\n",
       "      <td>2.924888</td>\n",
       "      <td>3.058829</td>\n",
       "    </tr>\n",
       "  </tbody>\n",
       "</table>\n",
       "</div>"
      ],
      "text/plain": [
       "           0         1\n",
       "β0 -0.324810  1.012686\n",
       "β1  0.864464  1.015957\n",
       "β2  1.943834  2.085686\n",
       "β3  2.924888  3.058829"
      ]
     },
     "execution_count": 70,
     "metadata": {},
     "output_type": "execute_result"
    }
   ],
   "source": [
    "print(\"\\n95% Confidence intervals for coefficients (N=100):\")\n",
    "results.conf_int()"
   ]
  },
  {
   "cell_type": "markdown",
   "id": "3cec7096-2392-4ca4-bc65-0307d09819ee",
   "metadata": {
    "editable": false,
    "slideshow": {
     "slide_type": ""
    },
    "tags": []
   },
   "source": [
    "Where the rows correspond to the coefficient for each predictor, and the columns give you the lower (0) and upper (1) bound. You can access using `.loc`:"
   ]
  },
  {
   "cell_type": "code",
   "execution_count": 71,
   "id": "b30f9cd2-5339-4d86-a6f6-37159f46bbdc",
   "metadata": {
    "editable": true,
    "slideshow": {
     "slide_type": ""
    },
    "tags": []
   },
   "outputs": [
    {
     "data": {
      "text/plain": [
       "np.float64(0.8644640542170633)"
      ]
     },
     "execution_count": 71,
     "metadata": {},
     "output_type": "execute_result"
    }
   ],
   "source": [
    "# The lower bound on the CI for the coefficient\n",
    "results.conf_int().loc['β1', 0]"
   ]
  },
  {
   "cell_type": "markdown",
   "id": "d8285380-13fd-4bb8-8e9a-8deadd6db963",
   "metadata": {
    "editable": false,
    "slideshow": {
     "slide_type": ""
    },
    "tags": []
   },
   "source": [
    "To access the actual estimates for the coefficients, you can call `results.params`:"
   ]
  },
  {
   "cell_type": "code",
   "execution_count": 72,
   "id": "00601e70-9ce6-4dd0-830d-d159e9da099a",
   "metadata": {
    "editable": true,
    "slideshow": {
     "slide_type": ""
    },
    "tags": []
   },
   "outputs": [
    {
     "name": "stdout",
     "output_type": "stream",
     "text": [
      "\n",
      "Estimated coefficients (N=100):\n"
     ]
    },
    {
     "data": {
      "text/plain": [
       "β0    0.343938\n",
       "β1    0.940210\n",
       "β2    2.014760\n",
       "β3    2.991859\n",
       "dtype: float64"
      ]
     },
     "execution_count": 72,
     "metadata": {},
     "output_type": "execute_result"
    }
   ],
   "source": [
    "print(\"\\nEstimated coefficients (N=100):\")\n",
    "results.params"
   ]
  },
  {
   "cell_type": "markdown",
   "id": "5789131c-ee69-4975-8ded-5885b1b55312",
   "metadata": {
    "editable": false,
    "slideshow": {
     "slide_type": ""
    },
    "tags": []
   },
   "source": [
    "<mark style=\"background-color: #40E0D0;\"> Task </mark> \n",
    "\n",
    "Now, write code to\n",
    "- generate a fresh dataset with a different random seed (but same N=100 and true_coefficients).\n",
    "- fit a linear model on this dataset\n",
    "- store the coefficient estimates and the confidence intervals for each model\n",
    "  \n",
    "Run this code 1000 times, storing the results in (for example) `all_coefs` and `all_cis`."
   ]
  },
  {
   "cell_type": "code",
   "execution_count": 73,
   "id": "48ef0e97-9ff4-426a-9a41-87d5a1097a17",
   "metadata": {
    "editable": true,
    "slideshow": {
     "slide_type": ""
    },
    "tags": []
   },
   "outputs": [],
   "source": [
    "# ---------------------------\n",
    "# 4) Sampling distribution over k experiments\n",
    "# ---------------------------\n",
    "\n",
    "k = 1000\n",
    "all_coefs = []\n",
    "all_cis = []\n",
    "\n",
    "# run a total of k=1000 experiments\n",
    "# for each experiment create dataset and save estimated coefficients and their 95%-CI's\n",
    "for i in range(k):\n",
    "    data = generate_dataset(N=100, seed=87 + i);      # varying seeds for randomization in the datasets\n",
    "    Y = data['Y']\n",
    "    X = data[['X0', 'X1', 'X2', 'X3']].rename(columns=coef_to_pred_mapping)\n",
    "\n",
    "    results = sm.OLS(Y, X).fit()\n",
    "    all_coefs.append(results.params)\n",
    "    all_cis.append(results.conf_int())\n",
    "\n",
    "all_coefs = np.array(all_coefs)\n",
    "all_cis = np.array(all_cis)\n"
   ]
  },
  {
   "cell_type": "markdown",
   "id": "7d1d67ce",
   "metadata": {},
   "source": [
    "##### Note: \n",
    "It is important to change the random seed in each iteration in order to generate different random datasets. This allows us to obtain a sampling distribution of the estimated coefficients.  \n",
    "Keeping the same seed would produce identical datasets in every iteration — and therefore no distribution of coefficient estimates."
   ]
  },
  {
   "cell_type": "code",
   "execution_count": null,
   "id": "b9b7ac32",
   "metadata": {},
   "outputs": [],
   "source": [
    "# Combine the results from all 1000 runs into one DataFrame for analysis\n",
    "coef_df = (\n",
    "    pd.DataFrame(all_coefs, columns=coef_to_pred_mapping.keys())\n",
    "      .rename(columns=coef_to_pred_mapping)\n",
    ")"
   ]
  },
  {
   "cell_type": "code",
   "execution_count": 85,
   "id": "8fad16be",
   "metadata": {},
   "outputs": [
    {
     "name": "stdout",
     "output_type": "stream",
     "text": [
      "\n",
      "Preview of CI's:\n"
     ]
    },
    {
     "data": {
      "text/html": [
       "<div>\n",
       "<style scoped>\n",
       "    .dataframe tbody tr th:only-of-type {\n",
       "        vertical-align: middle;\n",
       "    }\n",
       "\n",
       "    .dataframe tbody tr th {\n",
       "        vertical-align: top;\n",
       "    }\n",
       "\n",
       "    .dataframe thead th {\n",
       "        text-align: right;\n",
       "    }\n",
       "</style>\n",
       "<table border=\"1\" class=\"dataframe\">\n",
       "  <thead>\n",
       "    <tr style=\"text-align: right;\">\n",
       "      <th></th>\n",
       "      <th>experiment</th>\n",
       "      <th>coef</th>\n",
       "      <th>low</th>\n",
       "      <th>high</th>\n",
       "    </tr>\n",
       "  </thead>\n",
       "  <tbody>\n",
       "    <tr>\n",
       "      <th>0</th>\n",
       "      <td>0</td>\n",
       "      <td>β0</td>\n",
       "      <td>-0.601052</td>\n",
       "      <td>0.803586</td>\n",
       "    </tr>\n",
       "    <tr>\n",
       "      <th>1</th>\n",
       "      <td>0</td>\n",
       "      <td>β1</td>\n",
       "      <td>0.910157</td>\n",
       "      <td>1.055928</td>\n",
       "    </tr>\n",
       "    <tr>\n",
       "      <th>2</th>\n",
       "      <td>0</td>\n",
       "      <td>β2</td>\n",
       "      <td>2.014183</td>\n",
       "      <td>2.155744</td>\n",
       "    </tr>\n",
       "    <tr>\n",
       "      <th>3</th>\n",
       "      <td>0</td>\n",
       "      <td>β3</td>\n",
       "      <td>2.861329</td>\n",
       "      <td>3.010042</td>\n",
       "    </tr>\n",
       "    <tr>\n",
       "      <th>4</th>\n",
       "      <td>1</td>\n",
       "      <td>β0</td>\n",
       "      <td>-1.106479</td>\n",
       "      <td>0.198742</td>\n",
       "    </tr>\n",
       "  </tbody>\n",
       "</table>\n",
       "</div>"
      ],
      "text/plain": [
       "   experiment coef       low      high\n",
       "0           0   β0 -0.601052  0.803586\n",
       "1           0   β1  0.910157  1.055928\n",
       "2           0   β2  2.014183  2.155744\n",
       "3           0   β3  2.861329  3.010042\n",
       "4           1   β0 -1.106479  0.198742"
      ]
     },
     "execution_count": 85,
     "metadata": {},
     "output_type": "execute_result"
    }
   ],
   "source": [
    "# Convert to data frame\n",
    "# format: one row per coef per experiment\n",
    "vars = ['β0', 'β1', 'β2', 'β3']\n",
    "\n",
    "records = []\n",
    "for i in range(all_cis.shape[0]):\n",
    "    for j, var in enumerate(vars):\n",
    "        low, high = all_cis[i, j, 0], all_cis[i, j, 1]\n",
    "        records.append({\n",
    "            'experiment': i,\n",
    "            'coef': var,\n",
    "            'low': low,\n",
    "            'high': high\n",
    "        })\n",
    "\n",
    "cis_df = pd.DataFrame(records)\n",
    "\n",
    "print(\"\\nPreview of CI's:\")\n",
    "cis_df.head()"
   ]
  },
  {
   "cell_type": "markdown",
   "id": "42f55738-db47-4109-8a03-56e1a8764c2d",
   "metadata": {
    "editable": false,
    "slideshow": {
     "slide_type": ""
    },
    "tags": []
   },
   "source": [
    "<mark style=\"background-color: #40E0D0;\"> Task </mark> \n",
    "\n",
    "Now, for each variable `const, X1, X2, X3` plot the distribution of the fitted coefficients using [`sns.kdeplot`](https://seaborn.pydata.org/generated/seaborn.kdeplot.html)."
   ]
  },
  {
   "cell_type": "code",
   "execution_count": null,
   "id": "b22f0034-101e-46f3-8de2-69ed34f96133",
   "metadata": {
    "editable": true,
    "slideshow": {
     "slide_type": ""
    },
    "tags": []
   },
   "outputs": [
    {
     "data": {
      "image/png": "[encoded data removed]",
      "text/plain": [
       "<Figure size 1000x600 with 4 Axes>"
      ]
     },
     "metadata": {},
     "output_type": "display_data"
    }
   ],
   "source": [
    "# plots sampling distribution of each coefficient across experiments\n",
    "fig, axes = plt.subplots(2, 2, figsize=(10, 6))  # 2 rows, 2 cols\n",
    "axes = axes.flatten()\n",
    "\n",
    "for i, var in enumerate(vars):\n",
    "    ax = axes[i]\n",
    "    sns.kdeplot(coef_df[var], fill=True, ax=ax)\n",
    "    \n",
    "    # adds horizontal line for true value of coefficients\n",
    "    true_val = true_coefficients[int(var[-1])] if var != 'X0' else true_coefficients[0]\n",
    "    ax.axvline(true_val, color='red', linestyle='--', label=f\"True {var}\")\n",
    "    \n",
    "    ax.set_title(f\"Sampling distribution of {var}\")\n",
    "    ax.set_xlabel(\"Estimate\")\n",
    "    ax.set_ylabel(\"Density\")\n",
    "    ax.legend()\n",
    "\n",
    "plt.tight_layout()\n",
    "plt.show()"
   ]
  },
  {
   "cell_type": "markdown",
   "id": "e86b3e8a-d763-4145-bd73-31302434a215",
   "metadata": {
    "editable": false,
    "slideshow": {
     "slide_type": ""
    },
    "tags": []
   },
   "source": [
    "<br>\n",
    "<mark style=\"background-color: #648fff;\">Question:</mark> What kind of distributions are these?"
   ]
  },
  {
   "cell_type": "markdown",
   "id": "585fdb5c-a4dc-44ef-816d-c0061b126ab7",
   "metadata": {
    "editable": true,
    "slideshow": {
     "slide_type": ""
    },
    "tags": []
   },
   "source": [
    "Each plot represents the sampling distribution of an estimated coefficient $\\hat{\\beta}_j$ across repeated samples, representing the variability of the estimator.\n",
    "\n",
    "By the Central Limit Theorem, this distribution approaches normality as the sample size increases, provided the underlying distribution has finite mean and variance."
   ]
  },
  {
   "cell_type": "markdown",
   "id": "ce6dc738-2e55-4676-8d2e-a844594980af",
   "metadata": {
    "editable": false,
    "slideshow": {
     "slide_type": ""
    },
    "tags": []
   },
   "source": [
    "<br>\n",
    "<mark style=\"background-color: #648fff;\">Question:</mark> Why does the distribution for the coefficient of $X_0$ have larger variance?"
   ]
  },
  {
   "cell_type": "markdown",
   "id": "82a72b18",
   "metadata": {},
   "source": [
    "One reason could be because $\\beta_0$ is the intercept term. The intercept is estimated from an absolute/overall level of the data, while the other coefficients correspond to the effect size of the slopes and thereby just capture relative changes. \n",
    "\n",
    "Also, if the predictors are not centered, the intercept becomes the model’s estimate of 𝑌 when all predictors 𝑋 = 0.  \n",
    "But if 0 is far away from the actual data points, the model has to guess that value by extrapolating beyond the observed range.  \n",
    "This makes the intercept much more sensitive to random noise in the data."
   ]
  },
  {
   "cell_type": "markdown",
   "id": "95e248cd-ab0d-4117-ae97-885946498c5f",
   "metadata": {
    "editable": false,
    "slideshow": {
     "slide_type": ""
    },
    "tags": []
   },
   "source": [
    "<br>\n",
    "<mark style=\"background-color: #40E0D0;\"> Task </mark> \n",
    "\n",
    "Now, make the following plot to visualize the confidence intervals resulting from the 1000 models.\n",
    "\n",
    "For each variable $X_j \\in $(`X0, ..., X3`):\n",
    "\n",
    "- Using [`plt.hlines`](https://matplotlib.org/stable/api/_as_gen/matplotlib.pyplot.hlines.html) plot each $\\alpha = 0.95$ interval as a horizontal line, extending from its lower to upper limits. The line should be drawn at height `y=i`, where `i` is the index of the model (out of the 1000 fitted above).\n",
    "- Using [`plt.vlines`](https://matplotlib.org/stable/api/_as_gen/matplotlib.pyplot.vlines.html), draw a vertical line (e.g., in red), at the value of the true coefficient $\\beta_j$ for that variable."
   ]
  },
  {
   "cell_type": "code",
   "execution_count": 77,
   "id": "61e240bc",
   "metadata": {},
   "outputs": [
    {
     "data": {
      "text/html": [
       "<div>\n",
       "<style scoped>\n",
       "    .dataframe tbody tr th:only-of-type {\n",
       "        vertical-align: middle;\n",
       "    }\n",
       "\n",
       "    .dataframe tbody tr th {\n",
       "        vertical-align: top;\n",
       "    }\n",
       "\n",
       "    .dataframe thead th {\n",
       "        text-align: right;\n",
       "    }\n",
       "</style>\n",
       "<table border=\"1\" class=\"dataframe\">\n",
       "  <thead>\n",
       "    <tr style=\"text-align: right;\">\n",
       "      <th></th>\n",
       "      <th>experiment</th>\n",
       "      <th>coef</th>\n",
       "      <th>low</th>\n",
       "      <th>high</th>\n",
       "    </tr>\n",
       "  </thead>\n",
       "  <tbody>\n",
       "    <tr>\n",
       "      <th>0</th>\n",
       "      <td>0</td>\n",
       "      <td>β0</td>\n",
       "      <td>-0.601052</td>\n",
       "      <td>0.803586</td>\n",
       "    </tr>\n",
       "    <tr>\n",
       "      <th>1</th>\n",
       "      <td>0</td>\n",
       "      <td>β1</td>\n",
       "      <td>0.910157</td>\n",
       "      <td>1.055928</td>\n",
       "    </tr>\n",
       "    <tr>\n",
       "      <th>2</th>\n",
       "      <td>0</td>\n",
       "      <td>β2</td>\n",
       "      <td>2.014183</td>\n",
       "      <td>2.155744</td>\n",
       "    </tr>\n",
       "    <tr>\n",
       "      <th>3</th>\n",
       "      <td>0</td>\n",
       "      <td>β3</td>\n",
       "      <td>2.861329</td>\n",
       "      <td>3.010042</td>\n",
       "    </tr>\n",
       "    <tr>\n",
       "      <th>4</th>\n",
       "      <td>1</td>\n",
       "      <td>β0</td>\n",
       "      <td>-1.106479</td>\n",
       "      <td>0.198742</td>\n",
       "    </tr>\n",
       "    <tr>\n",
       "      <th>...</th>\n",
       "      <td>...</td>\n",
       "      <td>...</td>\n",
       "      <td>...</td>\n",
       "      <td>...</td>\n",
       "    </tr>\n",
       "    <tr>\n",
       "      <th>3995</th>\n",
       "      <td>998</td>\n",
       "      <td>β3</td>\n",
       "      <td>2.901953</td>\n",
       "      <td>3.056712</td>\n",
       "    </tr>\n",
       "    <tr>\n",
       "      <th>3996</th>\n",
       "      <td>999</td>\n",
       "      <td>β0</td>\n",
       "      <td>-0.597516</td>\n",
       "      <td>0.657928</td>\n",
       "    </tr>\n",
       "    <tr>\n",
       "      <th>3997</th>\n",
       "      <td>999</td>\n",
       "      <td>β1</td>\n",
       "      <td>0.934994</td>\n",
       "      <td>1.076271</td>\n",
       "    </tr>\n",
       "    <tr>\n",
       "      <th>3998</th>\n",
       "      <td>999</td>\n",
       "      <td>β2</td>\n",
       "      <td>1.952409</td>\n",
       "      <td>2.090469</td>\n",
       "    </tr>\n",
       "    <tr>\n",
       "      <th>3999</th>\n",
       "      <td>999</td>\n",
       "      <td>β3</td>\n",
       "      <td>2.894728</td>\n",
       "      <td>3.040991</td>\n",
       "    </tr>\n",
       "  </tbody>\n",
       "</table>\n",
       "<p>4000 rows × 4 columns</p>\n",
       "</div>"
      ],
      "text/plain": [
       "      experiment coef       low      high\n",
       "0              0   β0 -0.601052  0.803586\n",
       "1              0   β1  0.910157  1.055928\n",
       "2              0   β2  2.014183  2.155744\n",
       "3              0   β3  2.861329  3.010042\n",
       "4              1   β0 -1.106479  0.198742\n",
       "...          ...  ...       ...       ...\n",
       "3995         998   β3  2.901953  3.056712\n",
       "3996         999   β0 -0.597516  0.657928\n",
       "3997         999   β1  0.934994  1.076271\n",
       "3998         999   β2  1.952409  2.090469\n",
       "3999         999   β3  2.894728  3.040991\n",
       "\n",
       "[4000 rows x 4 columns]"
      ]
     },
     "execution_count": 77,
     "metadata": {},
     "output_type": "execute_result"
    }
   ],
   "source": [
    "cis_df"
   ]
  },
  {
   "cell_type": "code",
   "execution_count": null,
   "id": "6ed29b9e-1b33-40fa-a4eb-70a7d870bc68",
   "metadata": {
    "editable": true,
    "slideshow": {
     "slide_type": ""
    },
    "tags": []
   },
   "outputs": [
    {
     "data": {
      "image/png": "[encoded data removed]",
      "text/plain": [
       "<Figure size 1200x1000 with 4 Axes>"
      ]
     },
     "metadata": {},
     "output_type": "display_data"
    }
   ],
   "source": [
    "# ---------------------------\n",
    "# 5) CI's across experiments + coverage\n",
    "# ---------------------------\n",
    "\n",
    "# plot the 95% confidence intervals for each coefficient across 1000 experiments.\n",
    "# each horizontal line represents one experiment’s CI\n",
    "# the red dashed line marks the true β value.\n",
    "vars = ['β0', 'β1', 'β2', 'β3']\n",
    "true_map = {'β0': 0, 'β1': 1, 'β2': 2, 'β3': 3}\n",
    "\n",
    "fig, axes = plt.subplots(2, 2, figsize=(12, 10), sharey=True)\n",
    "axes = axes.flatten()\n",
    "\n",
    "for i, var in enumerate(vars):\n",
    "    ax = axes[i]\n",
    "    sub = cis_df[cis_df['coef'] == var].sort_values('experiment')\n",
    "    y = sub['experiment'].to_numpy() + 1\n",
    "    low = sub['low'].to_numpy()\n",
    "    high = sub['high'].to_numpy()\n",
    "    true_val = true_coefficients[true_map[var]]\n",
    "\n",
    "    # add horizontal lines for CIs\n",
    "    ax.hlines(y=y, xmin=low, xmax=high, color='darkblue', linewidth=1)\n",
    "\n",
    "    # add vertical caps\n",
    "    #cap_height = 0.15\n",
    "    #ax.vlines(x=low, ymin=y - cap_height, ymax=y + cap_height, color='darkblue', linewidth=1)\n",
    "    #ax.vlines(x=high, ymin=y - cap_height, ymax=y + cap_height, color='darkblue', linewidth=1)\n",
    "\n",
    "    # add vertical red line for true coefficient\n",
    "    ax.vlines(true_val, ymin=y.min()-1, ymax=y.max()+1,\n",
    "              linestyles='--', colors='red', linewidth=1.2)\n",
    "\n",
    "    ax.set_title(f\"{var}: 95% CIs across experiments\")\n",
    "    ax.set_xlabel(f\"Coefficient value {var}\")\n",
    "    if i % 2 == 0:\n",
    "        ax.set_ylabel(\"experiment index\")\n",
    "    ax.invert_yaxis()\n",
    "\n",
    "plt.tight_layout()\n",
    "plt.show()"
   ]
  },
  {
   "cell_type": "markdown",
   "id": "b772a7eb-792d-4aa5-b0f4-dd1f4e59431c",
   "metadata": {
    "editable": false,
    "slideshow": {
     "slide_type": ""
    },
    "tags": []
   },
   "source": [
    "<mark style=\"background-color: #648fff;\">Question:</mark> Now, make a guess: for the resulting confidence intervals, what precentage do you think contain the true coefficients $\\beta_0, \\ldots, \\beta_3$. Will this percentage be the same for all coefficients? "
   ]
  },
  {
   "cell_type": "markdown",
   "id": "6d2ee3a1-96be-4fc1-8306-5f31d005d083",
   "metadata": {
    "editable": true,
    "slideshow": {
     "slide_type": ""
    },
    "tags": []
   },
   "source": [
    "We constructed 95 % confidence intervals for each coefficient $\\beta_j$. By definition, this means that if we were to repeat the sampling process many times, approximately 95 % of those intervals would contain the true coefficient value $\\beta_j$.  \n",
    "\n",
    "The observed percentage should differ slightly across $\\beta_0, \\ldots, \\beta_3$ due to random variation in the simulated samples."
   ]
  },
  {
   "cell_type": "markdown",
   "id": "168587e7-c45c-417c-b3c9-76fd194062fd",
   "metadata": {
    "editable": false,
    "slideshow": {
     "slide_type": ""
    },
    "tags": []
   },
   "source": [
    "<br>\n",
    "<mark style=\"background-color: #40E0D0;\"> Task </mark>\n",
    "\n",
    "Now, for each variable ($X_0, X_1, X_2, X_3$), compute how often the true coefficient falls inside the corresponding confidence interval (i.e., give a percentage)."
   ]
  },
  {
   "cell_type": "code",
   "execution_count": 79,
   "id": "0d8fbb5a-f43e-4aed-beae-40a99cf9a8a6",
   "metadata": {
    "editable": true,
    "slideshow": {
     "slide_type": ""
    },
    "tags": []
   },
   "outputs": [
    {
     "data": {
      "text/plain": [
       "coef\n",
       "β0    96.2\n",
       "β1    94.9\n",
       "β2    95.9\n",
       "β3    95.8\n",
       "Name: covered, dtype: float64"
      ]
     },
     "execution_count": 79,
     "metadata": {},
     "output_type": "execute_result"
    }
   ],
   "source": [
    "# Define true β's and add to data frame\n",
    "true_values = {'β0': 0, 'β1': 1, 'β2': 2, 'β3': 3}\n",
    "cis_df['true_beta'] = cis_df['coef'].map(true_values)\n",
    "\n",
    "# Check if the true coefficient value is contained by each CI\n",
    "cis_df['covered'] = (cis_df['low'] <= cis_df['true_beta']) & (cis_df['true_beta'] <= cis_df['high'])\n",
    "\n",
    "# Compute the percentage of times each coefficient’s CI contained the true β\n",
    "coverage = cis_df.groupby('coef')['covered'].mean() * 100\n",
    "\n",
    "coverage.round(1)"
   ]
  },
  {
   "cell_type": "markdown",
   "id": "f5f2c23f-c2f6-447f-93b1-28e8a44e83de",
   "metadata": {
    "editable": false,
    "slideshow": {
     "slide_type": ""
    },
    "tags": []
   },
   "source": [
    "<br>\n",
    "<mark style=\"background-color: #648fff;\">Question:</mark> Was your prediction correct? If not, what do you think is happening?"
   ]
  },
  {
   "cell_type": "markdown",
   "id": "021b902f-4270-474d-974a-a57193438808",
   "metadata": {
    "editable": true,
    "slideshow": {
     "slide_type": ""
    },
    "tags": []
   },
   "source": [
    "Yes, it seems to be correct."
   ]
  },
  {
   "cell_type": "markdown",
   "id": "c0b45ea7-5bda-4e04-ae50-6d0e894554c3",
   "metadata": {
    "editable": false,
    "slideshow": {
     "slide_type": ""
    },
    "tags": []
   },
   "source": [
    "Now, we will do the same, but this time we will count how often the coefficients of all variables _simultaneously_ fall inside their confidence intervals.\n",
    "\n",
    "<mark style=\"background-color: #648fff;\">Question:</mark>  Will the resulting percentage be higher, lower or the same (make a guess)? Try to explain your reasoning."
   ]
  },
  {
   "cell_type": "markdown",
   "id": "e09be2e8",
   "metadata": {},
   "source": [
    "In my opinion, the percentage should be **lower**, because all four coefficients must *simultaneously* fall within their confidence intervals — and according to the rules of probability, the joint probability of several independent events equals the product of their individual probabilities, which reduces the overall coverage."
   ]
  },
  {
   "cell_type": "markdown",
   "id": "bd8ed10d-71a7-4623-832b-3ef94ab62102",
   "metadata": {
    "editable": false,
    "slideshow": {
     "slide_type": ""
    },
    "tags": []
   },
   "source": [
    "<br>\n",
    "<mark style=\"background-color: #40E0D0;\"> Task </mark>\n",
    "\n",
    "Now write the code to compute the simultaneous coverage percentage."
   ]
  },
  {
   "cell_type": "code",
   "execution_count": null,
   "id": "d654c5b1-f36d-4f38-934e-43407ee841cb",
   "metadata": {
    "editable": true,
    "slideshow": {
     "slide_type": ""
    },
    "tags": []
   },
   "outputs": [
    {
     "name": "stdout",
     "output_type": "stream",
     "text": [
      "Simultaneous coverage (all coefficients covered): 85.9%\n"
     ]
    }
   ],
   "source": [
    "# Compute the simultaneous coverage of all coefficients\n",
    "cis_df = cis_df.copy()\n",
    "cis_df['true_beta'] = cis_df['coef'].map(true_values)\n",
    "\n",
    "# Check for each experiment whether the true coefficient value lies within its estimated 95% CI\n",
    "cis_df['covered'] = (cis_df['low'] <= cis_df['true_beta']) & (cis_df['true_beta'] <= cis_df['high'])\n",
    "\n",
    "# Determine for each experiment whether all coefficients were simultaneously covered \n",
    "covered_all_vars_per_run = cis_df.groupby('experiment')['covered'].all()\n",
    "\n",
    "simultaneous_pct = covered_all_vars_per_run.mean() * 100\n",
    "print(f\"Simultaneous coverage (all coefficients covered): {simultaneous_pct:.1f}%\")"
   ]
  },
  {
   "cell_type": "markdown",
   "id": "566ab2a0-bef3-431a-98c1-5c173896a1d4",
   "metadata": {
    "editable": false,
    "slideshow": {
     "slide_type": ""
    },
    "tags": []
   },
   "source": [
    "<br>\n",
    "<mark style=\"background-color: #648fff;\">Question:</mark>  Were you right in your predicition? If not, what could be going wrong?"
   ]
  },
  {
   "cell_type": "markdown",
   "id": "6aefca68",
   "metadata": {},
   "source": [
    "Yes, it seems to be correct."
   ]
  },
  {
   "cell_type": "markdown",
   "id": "e4eec90c-0d13-4086-b14c-317fd522bd41",
   "metadata": {
    "editable": true,
    "slideshow": {
     "slide_type": ""
    },
    "tags": []
   },
   "source": [
    "## Understanding prediction intervals\n",
    "\n",
    "We will now look at prediction intervals."
   ]
  },
  {
   "cell_type": "markdown",
   "id": "d782b22d-690b-4c30-b8b3-34319e7f9ed8",
   "metadata": {
    "editable": false,
    "slideshow": {
     "slide_type": ""
    },
    "tags": []
   },
   "source": [
    "Given a DataFrame `new_covariates` containing observations of covariates (i.e., the predictors `X0, ..., X1`), you can compute the prediction intervals at level $alpha=0.05$ for each observation by calling:"
   ]
  },
  {
   "cell_type": "code",
   "execution_count": 81,
   "id": "1857d8f5-81b1-411e-8c04-c46886933683",
   "metadata": {
    "editable": true,
    "scrolled": true,
    "slideshow": {
     "slide_type": ""
    },
    "tags": []
   },
   "outputs": [],
   "source": [
    "# new_covariates = fresh_data[['X0','X1', 'X2', 'X3']] # As a placeholder for this example\n",
    "# results.get_prediction(new_covariates).summary_frame(alpha=0.05)"
   ]
  },
  {
   "cell_type": "markdown",
   "id": "9217857d-4fc0-4cb3-88c3-8a40d720486a",
   "metadata": {
    "editable": false,
    "slideshow": {
     "slide_type": ""
    },
    "tags": []
   },
   "source": [
    "The limits of the prediction interval are given by `obs_ci_lower` and `obs_ci_upper`."
   ]
  },
  {
   "cell_type": "markdown",
   "id": "d9364763-7f49-4a0e-a373-96dd1a57936d",
   "metadata": {
    "editable": false,
    "slideshow": {
     "slide_type": ""
    },
    "tags": []
   },
   "source": [
    "<br>\n",
    "<mark style=\"background-color: #40E0D0;\"> Task </mark>\n",
    "\n",
    "Generate a fresh dataset by calling `generate_dataset`. Pick a random seed that has not been selected before and set `N=1000`. Then compute the prediction intervals for each observation following the example above."
   ]
  },
  {
   "cell_type": "code",
   "execution_count": null,
   "id": "19c1c6da-6066-4b3f-b488-d2351bad14c8",
   "metadata": {
    "editable": true,
    "slideshow": {
     "slide_type": ""
    },
    "tags": []
   },
   "outputs": [
    {
     "data": {
      "text/html": [
       "<div>\n",
       "<style scoped>\n",
       "    .dataframe tbody tr th:only-of-type {\n",
       "        vertical-align: middle;\n",
       "    }\n",
       "\n",
       "    .dataframe tbody tr th {\n",
       "        vertical-align: top;\n",
       "    }\n",
       "\n",
       "    .dataframe thead th {\n",
       "        text-align: right;\n",
       "    }\n",
       "</style>\n",
       "<table border=\"1\" class=\"dataframe\">\n",
       "  <thead>\n",
       "    <tr style=\"text-align: right;\">\n",
       "      <th></th>\n",
       "      <th>X0</th>\n",
       "      <th>X1</th>\n",
       "      <th>X2</th>\n",
       "      <th>X3</th>\n",
       "      <th>Y</th>\n",
       "    </tr>\n",
       "  </thead>\n",
       "  <tbody>\n",
       "    <tr>\n",
       "      <th>0</th>\n",
       "      <td>1.0</td>\n",
       "      <td>6.927434</td>\n",
       "      <td>2.875438</td>\n",
       "      <td>7.022343</td>\n",
       "      <td>32.889525</td>\n",
       "    </tr>\n",
       "    <tr>\n",
       "      <th>1</th>\n",
       "      <td>1.0</td>\n",
       "      <td>8.158171</td>\n",
       "      <td>7.887835</td>\n",
       "      <td>5.030247</td>\n",
       "      <td>40.243158</td>\n",
       "    </tr>\n",
       "    <tr>\n",
       "      <th>2</th>\n",
       "      <td>1.0</td>\n",
       "      <td>3.444068</td>\n",
       "      <td>2.501492</td>\n",
       "      <td>0.451447</td>\n",
       "      <td>9.511723</td>\n",
       "    </tr>\n",
       "    <tr>\n",
       "      <th>3</th>\n",
       "      <td>1.0</td>\n",
       "      <td>0.448382</td>\n",
       "      <td>0.747905</td>\n",
       "      <td>6.178247</td>\n",
       "      <td>20.377811</td>\n",
       "    </tr>\n",
       "    <tr>\n",
       "      <th>4</th>\n",
       "      <td>1.0</td>\n",
       "      <td>5.715973</td>\n",
       "      <td>6.565527</td>\n",
       "      <td>1.037294</td>\n",
       "      <td>24.027628</td>\n",
       "    </tr>\n",
       "  </tbody>\n",
       "</table>\n",
       "</div>"
      ],
      "text/plain": [
       "    X0        X1        X2        X3          Y\n",
       "0  1.0  6.927434  2.875438  7.022343  32.889525\n",
       "1  1.0  8.158171  7.887835  5.030247  40.243158\n",
       "2  1.0  3.444068  2.501492  0.451447   9.511723\n",
       "3  1.0  0.448382  0.747905  6.178247  20.377811\n",
       "4  1.0  5.715973  6.565527  1.037294  24.027628"
      ]
     },
     "execution_count": 82,
     "metadata": {},
     "output_type": "execute_result"
    }
   ],
   "source": [
    "# Generate fresh data and prepare X vector\n",
    "fresh_data = generate_dataset(N=1000, seed=15)\n",
    "new_covariates = fresh_data[['X0','X1', 'X2', 'X3']]\n",
    "fresh_data.head()"
   ]
  },
  {
   "cell_type": "code",
   "execution_count": null,
   "id": "f0b54686",
   "metadata": {},
   "outputs": [
    {
     "data": {
      "text/html": [
       "<div>\n",
       "<style scoped>\n",
       "    .dataframe tbody tr th:only-of-type {\n",
       "        vertical-align: middle;\n",
       "    }\n",
       "\n",
       "    .dataframe tbody tr th {\n",
       "        vertical-align: top;\n",
       "    }\n",
       "\n",
       "    .dataframe thead th {\n",
       "        text-align: right;\n",
       "    }\n",
       "</style>\n",
       "<table border=\"1\" class=\"dataframe\">\n",
       "  <thead>\n",
       "    <tr style=\"text-align: right;\">\n",
       "      <th></th>\n",
       "      <th>mean</th>\n",
       "      <th>mean_se</th>\n",
       "      <th>mean_ci_lower</th>\n",
       "      <th>mean_ci_upper</th>\n",
       "      <th>obs_ci_lower</th>\n",
       "      <th>obs_ci_upper</th>\n",
       "    </tr>\n",
       "  </thead>\n",
       "  <tbody>\n",
       "    <tr>\n",
       "      <th>0</th>\n",
       "      <td>33.780335</td>\n",
       "      <td>0.050303</td>\n",
       "      <td>33.681623</td>\n",
       "      <td>33.879046</td>\n",
       "      <td>31.811584</td>\n",
       "      <td>35.749085</td>\n",
       "    </tr>\n",
       "    <tr>\n",
       "      <th>1</th>\n",
       "      <td>39.009238</td>\n",
       "      <td>0.056265</td>\n",
       "      <td>38.898826</td>\n",
       "      <td>39.119649</td>\n",
       "      <td>37.039866</td>\n",
       "      <td>40.978609</td>\n",
       "    </tr>\n",
       "    <tr>\n",
       "      <th>2</th>\n",
       "      <td>9.788003</td>\n",
       "      <td>0.069613</td>\n",
       "      <td>9.651398</td>\n",
       "      <td>9.924609</td>\n",
       "      <td>7.816990</td>\n",
       "      <td>11.759017</td>\n",
       "    </tr>\n",
       "    <tr>\n",
       "      <th>3</th>\n",
       "      <td>20.521085</td>\n",
       "      <td>0.077784</td>\n",
       "      <td>20.368447</td>\n",
       "      <td>20.673724</td>\n",
       "      <td>18.548896</td>\n",
       "      <td>22.493275</td>\n",
       "    </tr>\n",
       "    <tr>\n",
       "      <th>4</th>\n",
       "      <td>21.921819</td>\n",
       "      <td>0.057141</td>\n",
       "      <td>21.809689</td>\n",
       "      <td>22.033949</td>\n",
       "      <td>19.952351</td>\n",
       "      <td>23.891288</td>\n",
       "    </tr>\n",
       "  </tbody>\n",
       "</table>\n",
       "</div>"
      ],
      "text/plain": [
       "        mean   mean_se  mean_ci_lower  mean_ci_upper  obs_ci_lower  \\\n",
       "0  33.780335  0.050303      33.681623      33.879046     31.811584   \n",
       "1  39.009238  0.056265      38.898826      39.119649     37.039866   \n",
       "2   9.788003  0.069613       9.651398       9.924609      7.816990   \n",
       "3  20.521085  0.077784      20.368447      20.673724     18.548896   \n",
       "4  21.921819  0.057141      21.809689      22.033949     19.952351   \n",
       "\n",
       "   obs_ci_upper  \n",
       "0     35.749085  \n",
       "1     40.978609  \n",
       "2     11.759017  \n",
       "3     22.493275  \n",
       "4     23.891288  "
      ]
     },
     "execution_count": 83,
     "metadata": {},
     "output_type": "execute_result"
    }
   ],
   "source": [
    "# Fit OLS on the same data\n",
    "res_fresh = sm.OLS(fresh_data['Y'], new_covariates).fit()\n",
    "\n",
    "# Get the prediction intervals of Y (alpha=0.05; 95% intervals)\n",
    "pred_intervals_df = res_fresh.get_prediction(new_covariates).summary_frame(alpha=0.05)\n",
    "pred_intervals_df.head()"
   ]
  },
  {
   "cell_type": "markdown",
   "id": "1ef768e4-5fb2-407f-9c9f-3b5ab9055bb4",
   "metadata": {
    "editable": false,
    "slideshow": {
     "slide_type": ""
    },
    "tags": []
   },
   "source": [
    "<br>\n",
    "<mark style=\"background-color: #648fff;\">Question:</mark> Now, make a guess. What percentage of the measured outcomes ($Y$) will be contained inside their prediction interval?"
   ]
  },
  {
   "cell_type": "markdown",
   "id": "14ce7030-532b-47a4-b488-76b30f145e43",
   "metadata": {
    "editable": true,
    "slideshow": {
     "slide_type": ""
    },
    "tags": []
   },
   "source": [
    "It should be around $(1-\\alpha) = 0.95$, since for a 95% prediction interval about 95% of the observed 𝑌 values are expected to fall within their intervals - the same as before with the coefficents $\\beta_j$. "
   ]
  },
  {
   "cell_type": "markdown",
   "id": "46e8bbed-0288-47e5-b27d-d7018a0fccea",
   "metadata": {
    "editable": false,
    "slideshow": {
     "slide_type": ""
    },
    "tags": []
   },
   "source": [
    "<br>\n",
    "<mark style=\"background-color: #40E0D0;\"> Task </mark>\n",
    "\n",
    "Compute the actual percentage and print it."
   ]
  },
  {
   "cell_type": "code",
   "execution_count": null,
   "id": "cdf6712e-8330-46e7-806b-bb795c3091ac",
   "metadata": {
    "editable": true,
    "slideshow": {
     "slide_type": ""
    },
    "tags": []
   },
   "outputs": [
    {
     "name": "stdout",
     "output_type": "stream",
     "text": [
      "Approximately 96.1%\n"
     ]
    }
   ],
   "source": [
    "# Compute percentage of Y inside their own prediction intervals\n",
    "# Check if the observed Y value lies within each CI\n",
    "pred_intervals_df['covered'] = (pred_intervals_df['obs_ci_lower'] <= fresh_data['Y']) & (fresh_data['Y'] <= pred_intervals_df['obs_ci_upper'])\n",
    "\n",
    "# Compute the percentage of times each variable’s CI contained the observed Y\n",
    "coverage = pred_intervals_df['covered'].mean() * 100\n",
    "\n",
    "print(f\"Approximately {coverage:.1f}%\")\n"
   ]
  },
  {
   "cell_type": "markdown",
   "id": "541e3bc0-626b-41e5-b940-a94b13335932",
   "metadata": {
    "editable": false,
    "slideshow": {
     "slide_type": ""
    },
    "tags": []
   },
   "source": [
    "<br>\n",
    "<mark style=\"background-color: #648fff;\">Question:</mark> Was your hypothesis correct? If not, what is going wrong (make a guess)."
   ]
  },
  {
   "cell_type": "markdown",
   "id": "78607622",
   "metadata": {},
   "source": [
    "The result is slightly higher than 95% (about 96.1%), but such small deviations are normal and can be explained by random sampling variability in finite samples."
   ]
  }
 ],
 "metadata": {
  "kernelspec": {
   "display_name": "ml2t (3.13.5)",
   "language": "python",
   "name": "python3"
  },
  "language_info": {
   "codemirror_mode": {
    "name": "ipython",
    "version": 3
   },
   "file_extension": ".py",
   "mimetype": "text/x-python",
   "name": "python",
   "nbconvert_exporter": "python",
   "pygments_lexer": "ipython3",
   "version": "3.13.5"
  }
 },
 "nbformat": 4,
 "nbformat_minor": 5
}
