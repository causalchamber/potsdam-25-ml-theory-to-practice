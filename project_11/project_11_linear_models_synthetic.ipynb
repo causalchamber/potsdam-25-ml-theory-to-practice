{
 "cells": [
  {
   "cell_type": "markdown",
   "id": "ca0a0a2f-3fea-4e50-b244-0a70b2a766be",
   "metadata": {
    "editable": false,
    "slideshow": {
     "slide_type": ""
    },
    "tags": []
   },
   "source": [
    "# Project 1.1: Understanding linear models on synthetic data\n",
    "\n",
    "```\n",
    "From ML Theory to Practice\n",
    "Universität Potsdam, fall semester 2025\n",
    "\n",
    "Authors: Juan L. Gamella and Simon Bing\n",
    "License: CC-BY-4.0 https://creativecommons.org/licenses/by/4.0/\n",
    "```"
   ]
  },
  {
   "cell_type": "markdown",
   "id": "6490cb02-b530-4ac8-8a57-f9f64e814778",
   "metadata": {
    "editable": false,
    "slideshow": {
     "slide_type": ""
    },
    "tags": []
   },
   "source": [
    "## Imports\n",
    "\n",
    "These packages should already be installed in your Python virtual environment."
   ]
  },
  {
   "cell_type": "code",
   "execution_count": 1,
   "id": "76bc1a3a-54a3-4254-a938-c9104d1c6c59",
   "metadata": {
    "slideshow": {
     "slide_type": ""
    },
    "tags": []
   },
   "outputs": [],
   "source": [
    "import numpy as np\n",
    "import pandas as pd\n",
    "import matplotlib.pyplot as plt\n",
    "import seaborn as sns\n",
    "import statsmodels.api as sm"
   ]
  },
  {
   "cell_type": "markdown",
   "id": "090ec10e-3144-4bb8-887c-4ec817ad1033",
   "metadata": {
    "editable": false,
    "slideshow": {
     "slide_type": ""
    },
    "tags": []
   },
   "source": [
    "## Generating synthetic data"
   ]
  },
  {
   "cell_type": "markdown",
   "id": "814e44af-3b58-4557-8953-10669925cf25",
   "metadata": {
    "editable": false,
    "slideshow": {
     "slide_type": ""
    },
    "tags": []
   },
   "source": [
    "<mark style=\"background-color: #db40e0ff;\"> Task </mark> \n",
    "\n",
    "Write code to generate `N` samples from the following linear model\n",
    "\n",
    "$Y := \\beta_0 + \\beta_1 X_1 + \\beta_2 X_2 + \\beta_3 X_3 + \\epsilon$\n",
    "\n",
    "where $\\beta \\in \\mathbb{R}^4$ and $\\epsilon \\sim \\mathcal{N}(0,1)$, and $X_1$, $X_2$, $X_3$ are sampled independently and uniformly at random from $[0,10]$.\n",
    "\n",
    "For now, set $\\beta = (0,1,2,3)$, `N = 100` and store the samples in a dataframe with columns `X0, X1, X2, X3, Y`, where `X0` is just a vector of ones."
   ]
  },
  {
   "cell_type": "code",
   "execution_count": null,
   "id": "3fb34c5a-1798-4ecf-bd96-aa12f8a7fcfd",
   "metadata": {
    "editable": true,
    "slideshow": {
     "slide_type": ""
    },
    "tags": []
   },
   "outputs": [],
   "source": [
    "true_coefficients = np.array([0,1,2,3])\n",
    "def generate_dataset(N, seed, model_coefficients = true_coefficients):\n",
    "    \"\"\"\n",
    "    Generates a DataFrame with N samples based on a linear model.\n",
    "\n",
    "    Args:\n",
    "        N (int): The number of samples to generate.\n",
    "        seed (int): A seed for the random number generator for reproducibility.\n",
    "        model_coefficients (np.ndarray): An array of the true model coefficients Beta.\n",
    "\n",
    "    Returns:\n",
    "        pd.DataFrame: A DataFrame containing the generated data.\n",
    "    \"\"\"\n",
    "    rng = np.random.default_rng(seed);\n",
    "\n",
    "    # create N random samples for each covariate and the error term\n",
    "    X0 = np.ones(N); # Intercept\n",
    "    X1 = rng.uniform(low=0, high=10, size=N);\n",
    "    X2 = rng.uniform(low=0, high=10, size=N);\n",
    "    X3 = rng.uniform(low=0, high=10, size=N);\n",
    "    noiseTerm = rng.standard_normal(size=N);\n",
    "\n",
    "    # Calculate the data points with the linear model formula\n",
    "    Y = (model_coefficients[0]*X0 + \n",
    "         model_coefficients[1]*X1 + \n",
    "         model_coefficients[2]*X2 + \n",
    "         model_coefficients[3]*X3 + \n",
    "         noiseTerm)\n",
    "    \n",
    "    # Store in a dataframe    \n",
    "    data = pd.DataFrame({'X0': X0, 'X1': X1, 'X2': X2, 'X3': X3, 'Y': Y})\n",
    "    return data"
   ]
  },
  {
   "cell_type": "code",
   "execution_count": 3,
   "id": "b4b39745-fd9e-44d1-a087-e139096fe5bd",
   "metadata": {},
   "outputs": [],
   "source": [
    "data = generate_dataset(N=100, seed=42)"
   ]
  },
  {
   "cell_type": "code",
   "execution_count": null,
   "id": "c52c51da",
   "metadata": {},
   "outputs": [
    {
     "name": "stdout",
     "output_type": "stream",
     "text": [
      "\n",
      "First 5 rows of the generated data:\n"
     ]
    },
    {
     "data": {
      "text/html": [
       "<div>\n",
       "<style scoped>\n",
       "    .dataframe tbody tr th:only-of-type {\n",
       "        vertical-align: middle;\n",
       "    }\n",
       "\n",
       "    .dataframe tbody tr th {\n",
       "        vertical-align: top;\n",
       "    }\n",
       "\n",
       "    .dataframe thead th {\n",
       "        text-align: right;\n",
       "    }\n",
       "</style>\n",
       "<table border=\"1\" class=\"dataframe\">\n",
       "  <thead>\n",
       "    <tr style=\"text-align: right;\">\n",
       "      <th></th>\n",
       "      <th>X0</th>\n",
       "      <th>X1</th>\n",
       "      <th>X2</th>\n",
       "      <th>X3</th>\n",
       "      <th>Y</th>\n",
       "    </tr>\n",
       "  </thead>\n",
       "  <tbody>\n",
       "    <tr>\n",
       "      <th>0</th>\n",
       "      <td>1.0</td>\n",
       "      <td>7.739560</td>\n",
       "      <td>9.085807</td>\n",
       "      <td>7.774048</td>\n",
       "      <td>48.941148</td>\n",
       "    </tr>\n",
       "    <tr>\n",
       "      <th>1</th>\n",
       "      <td>1.0</td>\n",
       "      <td>4.388784</td>\n",
       "      <td>6.997071</td>\n",
       "      <td>9.718264</td>\n",
       "      <td>47.434232</td>\n",
       "    </tr>\n",
       "    <tr>\n",
       "      <th>2</th>\n",
       "      <td>1.0</td>\n",
       "      <td>8.585979</td>\n",
       "      <td>2.658700</td>\n",
       "      <td>5.007412</td>\n",
       "      <td>28.673637</td>\n",
       "    </tr>\n",
       "    <tr>\n",
       "      <th>3</th>\n",
       "      <td>1.0</td>\n",
       "      <td>6.973680</td>\n",
       "      <td>9.691764</td>\n",
       "      <td>1.438975</td>\n",
       "      <td>30.826695</td>\n",
       "    </tr>\n",
       "    <tr>\n",
       "      <th>4</th>\n",
       "      <td>1.0</td>\n",
       "      <td>0.941773</td>\n",
       "      <td>7.787509</td>\n",
       "      <td>0.139363</td>\n",
       "      <td>18.406372</td>\n",
       "    </tr>\n",
       "  </tbody>\n",
       "</table>\n",
       "</div>"
      ],
      "text/plain": [
       "    X0        X1        X2        X3          Y\n",
       "0  1.0  7.739560  9.085807  7.774048  48.941148\n",
       "1  1.0  4.388784  6.997071  9.718264  47.434232\n",
       "2  1.0  8.585979  2.658700  5.007412  28.673637\n",
       "3  1.0  6.973680  9.691764  1.438975  30.826695\n",
       "4  1.0  0.941773  7.787509  0.139363  18.406372"
      ]
     },
     "execution_count": 4,
     "metadata": {},
     "output_type": "execute_result"
    }
   ],
   "source": [
    "print(\"First 5 rows of the generated data:\")\n",
    "data.head()"
   ]
  },
  {
   "cell_type": "markdown",
   "id": "6a50a91a",
   "metadata": {},
   "source": [
    "# Question: Are the X continuous?"
   ]
  },
  {
   "cell_type": "markdown",
   "id": "5af42e0e-40f7-41fc-9c14-0d34a303493e",
   "metadata": {
    "editable": false,
    "slideshow": {
     "slide_type": ""
    },
    "tags": []
   },
   "source": [
    "## Visualize the data\n",
    "\n",
    "<mark style=\"background-color: #40E0D0;\"> Task </mark> \n",
    "\n",
    "Before fitting a model, lets do a sanity check on the data. Make a corner plot using [`sns.pairplot`](https://seaborn.pydata.org/generated/seaborn.pairplot.html), and specify `vars=['X1', 'X2', 'X3', 'Y']` and `corner=True`. Look at the row for `Y` vs. the other variables and check that there is indeed the linear effect you expect."
   ]
  },
  {
   "cell_type": "code",
   "execution_count": 5,
   "id": "8d6ed205-4487-440f-ac8a-e8ca6ee1b73d",
   "metadata": {
    "editable": true,
    "slideshow": {
     "slide_type": ""
    },
    "tags": []
   },
   "outputs": [
    {
     "data": {
      "image/png": "[encoded data removed]",
      "text/plain": [
       "<Figure size 1000x1000 with 14 Axes>"
      ]
     },
     "metadata": {},
     "output_type": "display_data"
    }
   ],
   "source": [
    "sns.pairplot(data, vars=['X1', 'X2', 'X3', 'Y'], corner=True)\n",
    "\n",
    "# Display the plot\n",
    "plt.suptitle('Pairwise Relationships in Generated Data')\n",
    "plt.show()"
   ]
  },
  {
   "cell_type": "markdown",
   "id": "0a9c7919-0092-4fbc-b5bf-1f42e0489040",
   "metadata": {
    "editable": false,
    "slideshow": {
     "slide_type": ""
    },
    "tags": []
   },
   "source": [
    "<mark style=\"background-color: #648fff;\">Question:</mark> Write down anything that surprises you to discuss later with your classmates."
   ]
  },
  {
   "cell_type": "markdown",
   "id": "cc2ac582-8323-4f42-83cc-07633a927c79",
   "metadata": {
    "editable": true,
    "slideshow": {
     "slide_type": ""
    },
    "tags": []
   },
   "source": [
    "X1 linearity? correlation? with Y is way less than X3. Guess because Parameter Beta_1 is smaller than Beta_3"
   ]
  },
  {
   "cell_type": "markdown",
   "id": "4f760bf4-7bfa-4fe3-96aa-acf90a1422e9",
   "metadata": {
    "editable": false,
    "slideshow": {
     "slide_type": ""
    },
    "tags": []
   },
   "source": [
    "## Fitting a linear model using `statsmodels`"
   ]
  },
  {
   "cell_type": "markdown",
   "id": "9b1ba6d7-4787-4fb9-a9dd-9cd9fcc24e75",
   "metadata": {
    "editable": false,
    "slideshow": {
     "slide_type": ""
    },
    "tags": []
   },
   "source": [
    "Now, we will use statsmodels to fit a linear model using Ordinary Least Squares (OLS).\n",
    "\n",
    "You can do this by calling:\n",
    "\n",
    "```results = sm.OLS(<outcome>,<predictors>).fit()```\n",
    "\n",
    "where `outcome` and `predictors` are dataframes. You can find an example [here](https://www.statsmodels.org/stable/generated/statsmodels.regression.linear_model.OLS.html#statsmodels.regression.linear_model.OLS) (feel free to ask your favorite chatbot for help).\n",
    "\n",
    "<mark style=\"background-color: #40E0D0;\"> Task </mark> \n",
    "\n",
    "Fit a linear model to predict `Y` from `X0, X1, X2, X3`. Store the fitted model in a variable called `results`."
   ]
  },
  {
   "cell_type": "code",
   "execution_count": 6,
   "id": "21346139-753e-42ac-ab41-5cc70df67a5e",
   "metadata": {
    "editable": true,
    "slideshow": {
     "slide_type": ""
    },
    "tags": []
   },
   "outputs": [],
   "source": [
    "# Separate outcome (Y) and predictors (X's) from dataframe\n",
    "outcome = data['Y']\n",
    "predictors = data[['X0', 'X1', 'X2', 'X3']]\n",
    "\n",
    "# Fit the Ordinary Least Squares (OLS) model to estimate parameters Beta \n",
    "# that minimize the prediction error, between the predicted and observed values\n",
    "results = sm.OLS(outcome, predictors).fit()"
   ]
  },
  {
   "cell_type": "markdown",
   "id": "b9353d05-039c-4e46-a74c-bdf4a68690ce",
   "metadata": {
    "editable": false,
    "slideshow": {
     "slide_type": ""
    },
    "tags": []
   },
   "source": [
    "## Interpreting the results\n",
    "\n",
    "<mark style=\"background-color: #40E0D0;\"> Task </mark> \n",
    "\n",
    "\n",
    "Print the summary table of the linear model calling `print(results.summary())`."
   ]
  },
  {
   "cell_type": "code",
   "execution_count": 7,
   "id": "da5fc34b-7a56-414a-962c-6f0339478294",
   "metadata": {
    "editable": true,
    "slideshow": {
     "slide_type": ""
    },
    "tags": []
   },
   "outputs": [
    {
     "name": "stdout",
     "output_type": "stream",
     "text": [
      "                            OLS Regression Results                            \n",
      "==============================================================================\n",
      "Dep. Variable:                      Y   R-squared:                       0.992\n",
      "Model:                            OLS   Adj. R-squared:                  0.991\n",
      "Method:                 Least Squares   F-statistic:                     3777.\n",
      "Date:                Mon, 20 Oct 2025   Prob (F-statistic):           1.84e-99\n",
      "Time:                        21:54:16   Log-Likelihood:                -142.63\n",
      "No. Observations:                 100   AIC:                             293.3\n",
      "Df Residuals:                      96   BIC:                             303.7\n",
      "Df Model:                           3                                         \n",
      "Covariance Type:            nonrobust                                         \n",
      "==============================================================================\n",
      "                 coef    std err          t      P>|t|      [0.025      0.975]\n",
      "------------------------------------------------------------------------------\n",
      "X0             0.3439      0.337      1.021      0.310      -0.325       1.013\n",
      "X1             0.9402      0.038     24.639      0.000       0.864       1.016\n",
      "X2             2.0148      0.036     56.386      0.000       1.944       2.086\n",
      "X3             2.9919      0.034     88.678      0.000       2.925       3.059\n",
      "==============================================================================\n",
      "Omnibus:                        1.988   Durbin-Watson:                   1.983\n",
      "Prob(Omnibus):                  0.370   Jarque-Bera (JB):                1.997\n",
      "Skew:                          -0.290   Prob(JB):                        0.369\n",
      "Kurtosis:                       2.622   Cond. No.                         29.4\n",
      "==============================================================================\n",
      "\n",
      "Notes:\n",
      "[1] Standard Errors assume that the covariance matrix of the errors is correctly specified.\n"
     ]
    }
   ],
   "source": [
    "print(results.summary())"
   ]
  },
  {
   "cell_type": "markdown",
   "id": "70f4458d",
   "metadata": {},
   "source": [
    "According to the Model summary the Parameter Beta_1, Beta_2, Beta_3 are highly significant in explaining the outcome variable Y (t-val > 2 and p-val < 0.05). The effect of the respective parameter increases from Beta_1 to Beta_3 which isn't surprising as this reflects the true_parameters we set. \n",
    "\n",
    "All Betas are close to their respective true_parameter values and the Confidence Intervalls include them. "
   ]
  },
  {
   "cell_type": "markdown",
   "id": "764749e9-b0a7-4dd9-a10f-d144aa45cc8e",
   "metadata": {
    "editable": false,
    "slideshow": {
     "slide_type": ""
    },
    "tags": []
   },
   "source": [
    "<br>\n",
    "<mark style=\"background-color: #648fff;\">Question:</mark> What does the column `coef` show?"
   ]
  },
  {
   "cell_type": "markdown",
   "id": "334084f4-40f5-4bcf-960a-a22fbe91f00d",
   "metadata": {
    "editable": true,
    "slideshow": {
     "slide_type": ""
    },
    "tags": []
   },
   "source": [
    "zeigt die estimated betas an"
   ]
  },
  {
   "cell_type": "markdown",
   "id": "360d2d17-77da-43db-b0f1-b6d1ee652e4a",
   "metadata": {
    "editable": false,
    "slideshow": {
     "slide_type": ""
    },
    "tags": []
   },
   "source": [
    "<mark style=\"background-color: #648fff;\">Question:</mark> Why is $\\hat{\\beta}_0$ not zero?"
   ]
  },
  {
   "cell_type": "markdown",
   "id": "54764728-6f18-4979-bea3-7b7df1c89692",
   "metadata": {
    "editable": true,
    "slideshow": {
     "slide_type": ""
    },
    "tags": []
   },
   "source": [
    "müsste der error term sein"
   ]
  },
  {
   "cell_type": "markdown",
   "id": "d862a0f3-4a0f-4c0d-9689-f386a820365a",
   "metadata": {
    "editable": false,
    "slideshow": {
     "slide_type": ""
    },
    "tags": []
   },
   "source": [
    "<mark style=\"background-color: #648fff;\">Question:</mark> What do the columns `[0.025` and `0.975]` show?"
   ]
  },
  {
   "cell_type": "markdown",
   "id": "7e165193-f95f-4498-a2f5-f9cba072cd6a",
   "metadata": {
    "editable": true,
    "slideshow": {
     "slide_type": ""
    },
    "tags": []
   },
   "source": [
    "It shows the 95% Confidence Intervall - lower and upper bounds - of the respective coefficients. We did a two-sided hypothesis test, so we have 2.5% on the left side and 2.5% on the right side. "
   ]
  },
  {
   "cell_type": "markdown",
   "id": "48bf3159-a58c-4d58-8593-2ace4bdac272",
   "metadata": {
    "editable": false,
    "slideshow": {
     "slide_type": ""
    },
    "tags": []
   },
   "source": [
    "<mark style=\"background-color: #648fff;\">Question:</mark> What does the columns `P>|t|` show? Why is the entry for `X0` larger than the others?"
   ]
  },
  {
   "cell_type": "markdown",
   "id": "61bfdd41-e826-447a-8da3-5fe8e603dc16",
   "metadata": {
    "editable": true,
    "slideshow": {
     "slide_type": ""
    },
    "tags": []
   },
   "source": [
    "shows the p-val, meaning the probability. Größer als 0.05, damit X_0 nicht significant in explaining the data. Ist ja die Intercept, die immer 1 ist. Liegt es daran?"
   ]
  },
  {
   "cell_type": "markdown",
   "id": "420a7979-a401-4815-9bb8-2653e5aa0b06",
   "metadata": {
    "editable": false,
    "slideshow": {
     "slide_type": ""
    },
    "tags": []
   },
   "source": [
    "<mark style=\"background-color: #648fff;\">Question:</mark> Change the random seed above, generate fresh data, and re-fit the model. What has happened to the values in `P>|t|`? Why?"
   ]
  },
  {
   "cell_type": "markdown",
   "id": "513c4c7e-0750-4a1d-a26f-ffdb8a57fcd2",
   "metadata": {
    "editable": true,
    "slideshow": {
     "slide_type": ""
    },
    "tags": []
   },
   "source": [
    "They changed. Draw values from a random distribution, so they change in each durchgang. Just if we set a seed at the beginning we make sure, that always the same samples are drawn. Dient der Vergleichbarkeit der Ergebnisse. "
   ]
  },
  {
   "cell_type": "markdown",
   "id": "a078903d-4e3e-411f-8bc5-4cf83c471795",
   "metadata": {
    "editable": false,
    "slideshow": {
     "slide_type": ""
    },
    "tags": []
   },
   "source": [
    "<mark style=\"background-color: #648fff;\">Question:</mark> If you increase the sample size `N`, what will happen to the columns `coef`, `P>|t|`, `[0.025`, and `0.975]`?"
   ]
  },
  {
   "cell_type": "markdown",
   "id": "d9254034-c9ce-4a71-9b8c-f9e95114ce29",
   "metadata": {
    "editable": true,
    "slideshow": {
     "slide_type": ""
    },
    "tags": []
   },
   "source": [
    "Sollten stärker an die Normalverteilung herangehen und damit auch an E[\\mu], also immer näher an den true parameter - fehler bzw. schwankung wird immer kleiner. Konfidenzintervall sollte kleiner werden. Wert sollte immer significanter werden. "
   ]
  },
  {
   "cell_type": "markdown",
   "id": "9f83fde0-48ff-4331-a5cd-05a1c932db4e",
   "metadata": {
    "editable": false,
    "slideshow": {
     "slide_type": ""
    },
    "tags": []
   },
   "source": [
    "<mark style=\"background-color: #40E0D0;\"> Task </mark> \n",
    "\n",
    "Now, generate fresh data with `N=1000` and `N=10000` and check your hypothesis:"
   ]
  },
  {
   "cell_type": "code",
   "execution_count": 8,
   "id": "e8d5aff1-51c6-4736-923d-7c8d872a9a67",
   "metadata": {
    "editable": true,
    "slideshow": {
     "slide_type": ""
    },
    "tags": []
   },
   "outputs": [],
   "source": [
    "data_mediumSize = generate_dataset(N=1000, seed=42)\n",
    "data_largeSize = generate_dataset(N=10000, seed=42)"
   ]
  },
  {
   "cell_type": "code",
   "execution_count": 9,
   "id": "1ffb99c7",
   "metadata": {},
   "outputs": [
    {
     "name": "stdout",
     "output_type": "stream",
     "text": [
      "                            OLS Regression Results                            \n",
      "==============================================================================\n",
      "Dep. Variable:                      Y   R-squared:                       0.991\n",
      "Model:                            OLS   Adj. R-squared:                  0.991\n",
      "Method:                 Least Squares   F-statistic:                 3.848e+04\n",
      "Date:                Mon, 20 Oct 2025   Prob (F-statistic):               0.00\n",
      "Time:                        21:54:16   Log-Likelihood:                -1411.1\n",
      "No. Observations:                1000   AIC:                             2830.\n",
      "Df Residuals:                     996   BIC:                             2850.\n",
      "Df Model:                           3                                         \n",
      "Covariance Type:            nonrobust                                         \n",
      "==============================================================================\n",
      "                 coef    std err          t      P>|t|      [0.025      0.975]\n",
      "------------------------------------------------------------------------------\n",
      "X0             0.0680      0.100      0.681      0.496      -0.128       0.264\n",
      "X1             0.9956      0.011     92.289      0.000       0.974       1.017\n",
      "X2             1.9933      0.011    183.283      0.000       1.972       2.015\n",
      "X3             2.9996      0.011    276.030      0.000       2.978       3.021\n",
      "==============================================================================\n",
      "Omnibus:                        2.593   Durbin-Watson:                   1.934\n",
      "Prob(Omnibus):                  0.273   Jarque-Bera (JB):                2.652\n",
      "Skew:                           0.121   Prob(JB):                        0.266\n",
      "Kurtosis:                       2.928   Cond. No.                         29.3\n",
      "==============================================================================\n",
      "\n",
      "Notes:\n",
      "[1] Standard Errors assume that the covariance matrix of the errors is correctly specified.\n"
     ]
    }
   ],
   "source": [
    "outcome_mediumSize = data_mediumSize['Y']\n",
    "predictors_mediumSize = data_mediumSize[['X0', 'X1', 'X2', 'X3']]\n",
    "\n",
    "results_mediumSize = sm.OLS(outcome_mediumSize, predictors_mediumSize).fit()\n",
    "\n",
    "print(results_mediumSize.summary())"
   ]
  },
  {
   "cell_type": "code",
   "execution_count": 10,
   "id": "f040ec2b",
   "metadata": {},
   "outputs": [
    {
     "name": "stdout",
     "output_type": "stream",
     "text": [
      "                            OLS Regression Results                            \n",
      "==============================================================================\n",
      "Dep. Variable:                      Y   R-squared:                       0.991\n",
      "Model:                            OLS   Adj. R-squared:                  0.991\n",
      "Method:                 Least Squares   F-statistic:                 3.792e+05\n",
      "Date:                Mon, 20 Oct 2025   Prob (F-statistic):               0.00\n",
      "Time:                        21:54:16   Log-Likelihood:                -14282.\n",
      "No. Observations:               10000   AIC:                         2.857e+04\n",
      "Df Residuals:                    9996   BIC:                         2.860e+04\n",
      "Df Model:                           3                                         \n",
      "Covariance Type:            nonrobust                                         \n",
      "==============================================================================\n",
      "                 coef    std err          t      P>|t|      [0.025      0.975]\n",
      "------------------------------------------------------------------------------\n",
      "X0            -0.0360      0.032     -1.119      0.263      -0.099       0.027\n",
      "X1             1.0000      0.004    285.505      0.000       0.993       1.007\n",
      "X2             2.0045      0.003    573.706      0.000       1.998       2.011\n",
      "X3             3.0018      0.003    857.791      0.000       2.995       3.009\n",
      "==============================================================================\n",
      "Omnibus:                        0.026   Durbin-Watson:                   2.019\n",
      "Prob(Omnibus):                  0.987   Jarque-Bera (JB):                0.024\n",
      "Skew:                           0.004   Prob(JB):                        0.988\n",
      "Kurtosis:                       3.000   Cond. No.                         29.4\n",
      "==============================================================================\n",
      "\n",
      "Notes:\n",
      "[1] Standard Errors assume that the covariance matrix of the errors is correctly specified.\n"
     ]
    }
   ],
   "source": [
    "outcome_largeSize = data_largeSize['Y']\n",
    "predictors_largeSize = data_largeSize[['X0', 'X1', 'X2', 'X3']]\n",
    "\n",
    "results_largeSize = sm.OLS(outcome_largeSize, predictors_largeSize).fit()\n",
    "\n",
    "print(results_largeSize.summary())"
   ]
  },
  {
   "cell_type": "markdown",
   "id": "6cf0a502-292e-4c0b-ab86-9d1467a2df18",
   "metadata": {
    "editable": false,
    "slideshow": {
     "slide_type": ""
    },
    "tags": []
   },
   "source": [
    "<br>\n",
    "<mark style=\"background-color: #648fff;\">Question:</mark> What happened when you increased the sample size? Was your hypothesis correct?"
   ]
  },
  {
   "cell_type": "markdown",
   "id": "c336924c-bfd8-496d-9d92-cf73ee285a1d",
   "metadata": {
    "editable": true,
    "slideshow": {
     "slide_type": ""
    },
    "tags": []
   },
   "source": [
    "Genau wie in den \"Hypothesen\" beschrieben. "
   ]
  },
  {
   "cell_type": "markdown",
   "id": "966a872f-4916-49c9-b870-452249bbd31d",
   "metadata": {
    "editable": true,
    "slideshow": {
     "slide_type": ""
    },
    "tags": []
   },
   "source": [
    "## Understanding confidence intervals"
   ]
  },
  {
   "cell_type": "markdown",
   "id": "00da12a2-99f3-431d-bc9b-85e3166181f7",
   "metadata": {
    "editable": false,
    "slideshow": {
     "slide_type": ""
    },
    "tags": []
   },
   "source": [
    "We will now do a few experiments to test your understanding of confidence intervals.\n",
    "\n",
    "You can access the $\\alpha=0.05$ confidence interval computed by a model by calling `results.conf_int()`."
   ]
  },
  {
   "cell_type": "code",
   "execution_count": 11,
   "id": "46dd8797-82c4-4725-a1b2-7e1d65d4506d",
   "metadata": {
    "editable": true,
    "slideshow": {
     "slide_type": ""
    },
    "tags": []
   },
   "outputs": [
    {
     "data": {
      "text/html": [
       "<div>\n",
       "<style scoped>\n",
       "    .dataframe tbody tr th:only-of-type {\n",
       "        vertical-align: middle;\n",
       "    }\n",
       "\n",
       "    .dataframe tbody tr th {\n",
       "        vertical-align: top;\n",
       "    }\n",
       "\n",
       "    .dataframe thead th {\n",
       "        text-align: right;\n",
       "    }\n",
       "</style>\n",
       "<table border=\"1\" class=\"dataframe\">\n",
       "  <thead>\n",
       "    <tr style=\"text-align: right;\">\n",
       "      <th></th>\n",
       "      <th>0</th>\n",
       "      <th>1</th>\n",
       "    </tr>\n",
       "  </thead>\n",
       "  <tbody>\n",
       "    <tr>\n",
       "      <th>X0</th>\n",
       "      <td>-0.324810</td>\n",
       "      <td>1.012686</td>\n",
       "    </tr>\n",
       "    <tr>\n",
       "      <th>X1</th>\n",
       "      <td>0.864464</td>\n",
       "      <td>1.015957</td>\n",
       "    </tr>\n",
       "    <tr>\n",
       "      <th>X2</th>\n",
       "      <td>1.943834</td>\n",
       "      <td>2.085686</td>\n",
       "    </tr>\n",
       "    <tr>\n",
       "      <th>X3</th>\n",
       "      <td>2.924888</td>\n",
       "      <td>3.058829</td>\n",
       "    </tr>\n",
       "  </tbody>\n",
       "</table>\n",
       "</div>"
      ],
      "text/plain": [
       "           0         1\n",
       "X0 -0.324810  1.012686\n",
       "X1  0.864464  1.015957\n",
       "X2  1.943834  2.085686\n",
       "X3  2.924888  3.058829"
      ]
     },
     "execution_count": 11,
     "metadata": {},
     "output_type": "execute_result"
    }
   ],
   "source": [
    "results.conf_int()"
   ]
  },
  {
   "cell_type": "markdown",
   "id": "3cec7096-2392-4ca4-bc65-0307d09819ee",
   "metadata": {
    "editable": false,
    "slideshow": {
     "slide_type": ""
    },
    "tags": []
   },
   "source": [
    "Where the rows correspond to the coefficient for each predictor, and the columns give you the lower (0) and upper (1) bound. You can access using `.loc`:"
   ]
  },
  {
   "cell_type": "code",
   "execution_count": 12,
   "id": "b30f9cd2-5339-4d86-a6f6-37159f46bbdc",
   "metadata": {
    "editable": true,
    "slideshow": {
     "slide_type": ""
    },
    "tags": []
   },
   "outputs": [
    {
     "data": {
      "text/plain": [
       "np.float64(0.8644640542170633)"
      ]
     },
     "execution_count": 12,
     "metadata": {},
     "output_type": "execute_result"
    }
   ],
   "source": [
    "# The lower bound on the CI for X1\n",
    "results.conf_int().loc['X1', 0]"
   ]
  },
  {
   "cell_type": "markdown",
   "id": "d8285380-13fd-4bb8-8e9a-8deadd6db963",
   "metadata": {
    "editable": false,
    "slideshow": {
     "slide_type": ""
    },
    "tags": []
   },
   "source": [
    "To access the actual estimates for the coefficients, you can call `results.params`:"
   ]
  },
  {
   "cell_type": "code",
   "execution_count": 13,
   "id": "00601e70-9ce6-4dd0-830d-d159e9da099a",
   "metadata": {
    "editable": true,
    "slideshow": {
     "slide_type": ""
    },
    "tags": []
   },
   "outputs": [
    {
     "data": {
      "text/plain": [
       "X0    0.343938\n",
       "X1    0.940210\n",
       "X2    2.014760\n",
       "X3    2.991859\n",
       "dtype: float64"
      ]
     },
     "execution_count": 13,
     "metadata": {},
     "output_type": "execute_result"
    }
   ],
   "source": [
    "results.params"
   ]
  },
  {
   "cell_type": "markdown",
   "id": "5789131c-ee69-4975-8ded-5885b1b55312",
   "metadata": {
    "editable": false,
    "slideshow": {
     "slide_type": ""
    },
    "tags": []
   },
   "source": [
    "<mark style=\"background-color: #40E0D0;\"> Task </mark> \n",
    "\n",
    "Now, write code to\n",
    "- generate a fresh dataset with a different random seed (but same N=100 and true_coefficients).\n",
    "- fit a linear model on this dataset\n",
    "- store the coefficient estimates and the confidence intervals for each model\n",
    "  \n",
    "Run this code 1000 times, storing the results in (for example) `all_coefs` and `all_cis`."
   ]
  },
  {
   "cell_type": "code",
   "execution_count": null,
   "id": "48ef0e97-9ff4-426a-9a41-87d5a1097a17",
   "metadata": {
    "editable": true,
    "slideshow": {
     "slide_type": ""
    },
    "tags": []
   },
   "outputs": [],
   "source": [
    "#k = 1000;\n",
    "k = 5;\n",
    "all_coefs = []\n",
    "all_cis = []\n",
    "\n",
    "for i in range(0,k):\n",
    "    # data = generate_dataset(N=100, seed=87);\n",
    "    data = generate_dataset(N=10, seed=87);\n",
    "    Y = data['Y']\n",
    "    X = data[['X0', 'X1', 'X2', 'X3']]\n",
    "\n",
    "    results = sm.OLS(Y, X).fit()\n",
    "    all_coefs.append(results.params)\n",
    "    all_cis.append(results.conf_int())\n",
    "\n",
    "all_coefs = np.array(all_coefs)\n",
    "all_cis = np.array(all_cis)\n"
   ]
  },
  {
   "cell_type": "code",
   "execution_count": null,
   "id": "8fad16be",
   "metadata": {},
   "outputs": [
    {
     "ename": "AttributeError",
     "evalue": "'list' object has no attribute 'shape'",
     "output_type": "error",
     "traceback": [
      "\u001b[31m---------------------------------------------------------------------------\u001b[39m",
      "\u001b[31mAttributeError\u001b[39m                            Traceback (most recent call last)",
      "\u001b[36mCell\u001b[39m\u001b[36m \u001b[39m\u001b[32mIn[20]\u001b[39m\u001b[32m, line 1\u001b[39m\n\u001b[32m----> \u001b[39m\u001b[32m1\u001b[39m \u001b[38;5;28mprint\u001b[39m(\u001b[33mf\u001b[39m\u001b[33m\"\u001b[39m\u001b[33mShape of all_coefs: \u001b[39m\u001b[38;5;132;01m{\u001b[39;00m\u001b[43mall_coefs\u001b[49m\u001b[43m.\u001b[49m\u001b[43mshape\u001b[49m\u001b[38;5;132;01m}\u001b[39;00m\u001b[33m\"\u001b[39m)\n\u001b[32m      2\u001b[39m \u001b[38;5;28mprint\u001b[39m(\u001b[33mf\u001b[39m\u001b[33m\"\u001b[39m\u001b[33mShape of all_cis: \u001b[39m\u001b[38;5;132;01m{\u001b[39;00mall_cis.shape\u001b[38;5;132;01m}\u001b[39;00m\u001b[33m\"\u001b[39m)\n",
      "\u001b[31mAttributeError\u001b[39m: 'list' object has no attribute 'shape'"
     ]
    }
   ],
   "source": [
    "all_coefs\n",
    "all_cis"
   ]
  },
  {
   "cell_type": "markdown",
   "id": "42f55738-db47-4109-8a03-56e1a8764c2d",
   "metadata": {
    "editable": false,
    "slideshow": {
     "slide_type": ""
    },
    "tags": []
   },
   "source": [
    "<mark style=\"background-color: #40E0D0;\"> Task </mark> \n",
    "\n",
    "Now, for each variable `const, X1, X2, X3` plot the distribution of the fitted coefficients using [`sns.kdeplot`](https://seaborn.pydata.org/generated/seaborn.kdeplot.html)."
   ]
  },
  {
   "cell_type": "code",
   "execution_count": 22,
   "id": "b22f0034-101e-46f3-8de2-69ed34f96133",
   "metadata": {
    "editable": true,
    "slideshow": {
     "slide_type": ""
    },
    "tags": []
   },
   "outputs": [],
   "source": [
    "# TODO: your code goes here"
   ]
  },
  {
   "cell_type": "markdown",
   "id": "e86b3e8a-d763-4145-bd73-31302434a215",
   "metadata": {
    "editable": false,
    "slideshow": {
     "slide_type": ""
    },
    "tags": []
   },
   "source": [
    "<br>\n",
    "<mark style=\"background-color: #648fff;\">Question:</mark> What kind of distributions are these?"
   ]
  },
  {
   "cell_type": "markdown",
   "id": "585fdb5c-a4dc-44ef-816d-c0061b126ab7",
   "metadata": {
    "editable": true,
    "slideshow": {
     "slide_type": ""
    },
    "tags": []
   },
   "source": [
    "sample distributions - normal distributions, central limit theorem / stats2"
   ]
  },
  {
   "cell_type": "markdown",
   "id": "ce6dc738-2e55-4676-8d2e-a844594980af",
   "metadata": {
    "editable": false,
    "slideshow": {
     "slide_type": ""
    },
    "tags": []
   },
   "source": [
    "<br>\n",
    "<mark style=\"background-color: #648fff;\">Question:</mark> Why does the distribution for the coefficient of $X_0$ have larger variance?"
   ]
  },
  {
   "cell_type": "markdown",
   "id": "eaecda62-7778-410a-86fd-76a764c1f2cb",
   "metadata": {
    "editable": true,
    "slideshow": {
     "slide_type": ""
    },
    "tags": []
   },
   "source": [
    "#### TODO"
   ]
  },
  {
   "cell_type": "markdown",
   "id": "95e248cd-ab0d-4117-ae97-885946498c5f",
   "metadata": {
    "editable": false,
    "slideshow": {
     "slide_type": ""
    },
    "tags": []
   },
   "source": [
    "<br>\n",
    "<mark style=\"background-color: #40E0D0;\"> Task </mark> \n",
    "\n",
    "Now, make the following plot to visualize the confidence intervals resulting from the 1000 models.\n",
    "\n",
    "For each variable $X_j \\in $(`X0, ..., X3`):\n",
    "\n",
    "- Using [`plt.hlines`](https://matplotlib.org/stable/api/_as_gen/matplotlib.pyplot.hlines.html) plot each $\\alpha = 0.95$ interval as a horizontal line, extending from its lower to upper limits. The line should be drawn at height `y=i`, where `i` is the index of the model (out of the 1000 fitted above).\n",
    "- Using [`plt.vlines`](https://matplotlib.org/stable/api/_as_gen/matplotlib.pyplot.vlines.html), draw a vertical line (e.g., in red), at the value of the true coefficient $\\beta_j$ for that variable."
   ]
  },
  {
   "cell_type": "code",
   "execution_count": null,
   "id": "6ed29b9e-1b33-40fa-a4eb-70a7d870bc68",
   "metadata": {
    "editable": true,
    "slideshow": {
     "slide_type": ""
    },
    "tags": []
   },
   "outputs": [],
   "source": [
    "# TODO: your code goes here"
   ]
  },
  {
   "cell_type": "markdown",
   "id": "b772a7eb-792d-4aa5-b0f4-dd1f4e59431c",
   "metadata": {
    "editable": false,
    "slideshow": {
     "slide_type": ""
    },
    "tags": []
   },
   "source": [
    "<br>\n",
    "\n",
    "\n",
    "<mark style=\"background-color: #648fff;\">Question:</mark> Now, make a guess: for the resulting confidence intervals, what precentage do you think contain the true coefficients $\\beta_0, \\ldots, \\beta_3$. Will this percentage be the same for all coefficients? "
   ]
  },
  {
   "cell_type": "markdown",
   "id": "6d2ee3a1-96be-4fc1-8306-5f31d005d083",
   "metadata": {
    "editable": true,
    "slideshow": {
     "slide_type": ""
    },
    "tags": []
   },
   "source": []
  },
  {
   "cell_type": "markdown",
   "id": "168587e7-c45c-417c-b3c9-76fd194062fd",
   "metadata": {
    "editable": false,
    "slideshow": {
     "slide_type": ""
    },
    "tags": []
   },
   "source": [
    "<br>\n",
    "<mark style=\"background-color: #40E0D0;\"> Task </mark>\n",
    "\n",
    "Now, for each variable ($X_0, X_1, X_2, X_3$), compute how often the true coefficient falls inside the corresponding confidence interval (i.e., give a percentage)."
   ]
  },
  {
   "cell_type": "code",
   "execution_count": null,
   "id": "0d8fbb5a-f43e-4aed-beae-40a99cf9a8a6",
   "metadata": {
    "editable": true,
    "slideshow": {
     "slide_type": ""
    },
    "tags": []
   },
   "outputs": [],
   "source": [
    "# TODO: your code goes here"
   ]
  },
  {
   "cell_type": "markdown",
   "id": "f5f2c23f-c2f6-447f-93b1-28e8a44e83de",
   "metadata": {
    "editable": false,
    "slideshow": {
     "slide_type": ""
    },
    "tags": []
   },
   "source": [
    "<br>\n",
    "<mark style=\"background-color: #648fff;\">Question:</mark> Was your prediction correct? If not, what do you think is happening?"
   ]
  },
  {
   "cell_type": "markdown",
   "id": "021b902f-4270-474d-974a-a57193438808",
   "metadata": {
    "editable": true,
    "slideshow": {
     "slide_type": ""
    },
    "tags": []
   },
   "source": []
  },
  {
   "cell_type": "markdown",
   "id": "c0b45ea7-5bda-4e04-ae50-6d0e894554c3",
   "metadata": {
    "editable": false,
    "slideshow": {
     "slide_type": ""
    },
    "tags": []
   },
   "source": [
    "Now, we will do the same, but this time we will count how often the coefficients of all variables _simultaneously_ fall inside their confidence intervals.\n",
    "\n",
    "<mark style=\"background-color: #648fff;\">Question:</mark>  Will the resulting percentage be higher, lower or the same (make a guess)? Try to explain your reasoning."
   ]
  },
  {
   "cell_type": "code",
   "execution_count": null,
   "id": "4c775843-bf01-4626-b9f4-2211e696772d",
   "metadata": {},
   "outputs": [],
   "source": []
  },
  {
   "cell_type": "markdown",
   "id": "bd8ed10d-71a7-4623-832b-3ef94ab62102",
   "metadata": {
    "editable": false,
    "slideshow": {
     "slide_type": ""
    },
    "tags": []
   },
   "source": [
    "<br>\n",
    "<mark style=\"background-color: #40E0D0;\"> Task </mark>\n",
    "\n",
    "Now write the code to compute the simultaneous coverage percentage."
   ]
  },
  {
   "cell_type": "code",
   "execution_count": null,
   "id": "d654c5b1-f36d-4f38-934e-43407ee841cb",
   "metadata": {
    "editable": true,
    "slideshow": {
     "slide_type": ""
    },
    "tags": []
   },
   "outputs": [],
   "source": [
    "# TODO: your code goes here"
   ]
  },
  {
   "cell_type": "markdown",
   "id": "566ab2a0-bef3-431a-98c1-5c173896a1d4",
   "metadata": {
    "editable": false,
    "slideshow": {
     "slide_type": ""
    },
    "tags": []
   },
   "source": [
    "<br>\n",
    "<mark style=\"background-color: #648fff;\">Question:</mark>  Were you right in your predicition? If not, what could be going wrong?"
   ]
  },
  {
   "cell_type": "code",
   "execution_count": null,
   "id": "07baf02d-fbd4-424b-8ae7-3189cc5679d4",
   "metadata": {
    "editable": true,
    "slideshow": {
     "slide_type": ""
    },
    "tags": []
   },
   "outputs": [],
   "source": []
  },
  {
   "cell_type": "markdown",
   "id": "e4eec90c-0d13-4086-b14c-317fd522bd41",
   "metadata": {
    "editable": true,
    "slideshow": {
     "slide_type": ""
    },
    "tags": []
   },
   "source": [
    "## Understanding prediction intervals\n",
    "\n",
    "We will now look at prediction intervals."
   ]
  },
  {
   "cell_type": "markdown",
   "id": "d782b22d-690b-4c30-b8b3-34319e7f9ed8",
   "metadata": {
    "editable": false,
    "slideshow": {
     "slide_type": ""
    },
    "tags": []
   },
   "source": [
    "Given a DataFrame `new_covariates` containing observations of covariates (i.e., the predictors `X0, ..., X1`), you can compute the prediction intervals at level $alpha=0.05$ for each observation by calling:"
   ]
  },
  {
   "cell_type": "code",
   "execution_count": null,
   "id": "1857d8f5-81b1-411e-8c04-c46886933683",
   "metadata": {
    "editable": true,
    "scrolled": true,
    "slideshow": {
     "slide_type": ""
    },
    "tags": []
   },
   "outputs": [],
   "source": [
    "new_covariates = fresh_data[['X0','X1', 'X2', 'X3']] # As a placeholder for this example\n",
    "results.get_prediction(new_covariates).summary_frame(alpha=0.05)"
   ]
  },
  {
   "cell_type": "markdown",
   "id": "9217857d-4fc0-4cb3-88c3-8a40d720486a",
   "metadata": {
    "editable": false,
    "slideshow": {
     "slide_type": ""
    },
    "tags": []
   },
   "source": [
    "The limits of the prediction interval are given by `obs_ci_lower` and `obs_ci_upper`."
   ]
  },
  {
   "cell_type": "markdown",
   "id": "d9364763-7f49-4a0e-a373-96dd1a57936d",
   "metadata": {
    "editable": false,
    "slideshow": {
     "slide_type": ""
    },
    "tags": []
   },
   "source": [
    "<br>\n",
    "<mark style=\"background-color: #40E0D0;\"> Task </mark>\n",
    "\n",
    "Generate a fresh dataset by calling `generate_dataset`. Pick a random seed that has not been selected before and set `N=1000`. Then compute the prediction intervals for each observation following the example above."
   ]
  },
  {
   "cell_type": "code",
   "execution_count": null,
   "id": "19c1c6da-6066-4b3f-b488-d2351bad14c8",
   "metadata": {
    "editable": true,
    "slideshow": {
     "slide_type": ""
    },
    "tags": []
   },
   "outputs": [],
   "source": [
    "# TODO: your code goes here"
   ]
  },
  {
   "cell_type": "markdown",
   "id": "1ef768e4-5fb2-407f-9c9f-3b5ab9055bb4",
   "metadata": {
    "editable": false,
    "slideshow": {
     "slide_type": ""
    },
    "tags": []
   },
   "source": [
    "<br>\n",
    "<mark style=\"background-color: #648fff;\">Question:</mark> Now, make a guess. What percentage of the measured outcomes ($Y$) will be contained inside their prediction interval?"
   ]
  },
  {
   "cell_type": "markdown",
   "id": "14ce7030-532b-47a4-b488-76b30f145e43",
   "metadata": {
    "editable": true,
    "slideshow": {
     "slide_type": ""
    },
    "tags": []
   },
   "source": []
  },
  {
   "cell_type": "markdown",
   "id": "46e8bbed-0288-47e5-b27d-d7018a0fccea",
   "metadata": {
    "editable": false,
    "slideshow": {
     "slide_type": ""
    },
    "tags": []
   },
   "source": [
    "<br>\n",
    "<mark style=\"background-color: #40E0D0;\"> Task </mark>\n",
    "\n",
    "Compute the actual percentage and print it."
   ]
  },
  {
   "cell_type": "code",
   "execution_count": null,
   "id": "cdf6712e-8330-46e7-806b-bb795c3091ac",
   "metadata": {
    "editable": true,
    "slideshow": {
     "slide_type": ""
    },
    "tags": []
   },
   "outputs": [],
   "source": [
    "# TODO: your code goes here"
   ]
  },
  {
   "cell_type": "markdown",
   "id": "541e3bc0-626b-41e5-b940-a94b13335932",
   "metadata": {
    "editable": false,
    "slideshow": {
     "slide_type": ""
    },
    "tags": []
   },
   "source": [
    "<br>\n",
    "<mark style=\"background-color: #648fff;\">Question:</mark> Was your hypothesis correct? If not, what is going wrong (make a guess)."
   ]
  },
  {
   "cell_type": "code",
   "execution_count": null,
   "id": "4813d23b-66b8-44c9-8a0d-621aba1b4c4e",
   "metadata": {
    "editable": true,
    "slideshow": {
     "slide_type": ""
    },
    "tags": []
   },
   "outputs": [],
   "source": []
  }
 ],
 "metadata": {
  "kernelspec": {
   "display_name": "ml2t (3.13.5)",
   "language": "python",
   "name": "python3"
  },
  "language_info": {
   "codemirror_mode": {
    "name": "ipython",
    "version": 3
   },
   "file_extension": ".py",
   "mimetype": "text/x-python",
   "name": "python",
   "nbconvert_exporter": "python",
   "pygments_lexer": "ipython3",
   "version": "3.13.5"
  }
 },
 "nbformat": 4,
 "nbformat_minor": 5
}
